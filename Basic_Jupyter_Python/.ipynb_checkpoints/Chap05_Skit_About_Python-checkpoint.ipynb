{
 "cells": [
  {
   "cell_type": "markdown",
   "id": "b3c8479c",
   "metadata": {},
   "source": [
    "- **if의 조건이 bool이 아닌 경우**\n",
    "  - 일반적으로 조건문에는 bool이 위치함\n",
    "  - 하지만, 정수, 실수, 문자열 리스트 등 기본 타입도 조건에 사용 가능하다.\n",
    "- **false로 간주되는 값**\n",
    "  - None\n",
    "  - 0\n",
    "  - 0.0\n",
    "  - ''\n",
    "  - [] -> 빈 리스트\n",
    "  - () -> 빈 튜플\n",
    "  - {} -> 빈 딕셔너리\n",
    "  - set() -> 빈 집합\n",
    "- 그 밖에는 모두 True로 간주한다.\n",
    "- 다중 조건문의 우선순위는 OR<AND<NOT 순으로 크다"
   ]
  },
  {
   "cell_type": "markdown",
   "id": "c8d85927",
   "metadata": {},
   "source": [
    "- **if, elif, else와 짝을 이루어 사용**\n",
    "- **그 이후 ':'을 붙여 조건을 표시(띄어쓰기에 주의한다.)"
   ]
  },
  {
   "cell_type": "code",
   "execution_count": 1,
   "id": "3b13ed46",
   "metadata": {},
   "outputs": [
    {
     "name": "stdout",
     "output_type": "stream",
     "text": [
      "5.0\n"
     ]
    }
   ],
   "source": [
    "a=10\n",
    "if a%2==0:\n",
    "    print(a/2)"
   ]
  },
  {
   "cell_type": "markdown",
   "id": "e83b0e7c",
   "metadata": {},
   "source": [
    "- **for 반복분의 사용**\n",
    "  - 리스트, 문자열 등 **순회 가능한 객체**를 순회하면서 값을 처리할 때 사용\n",
    "  - 순회를 할 수 있다 : **인덱스가 존재한다.**"
   ]
  },
  {
   "cell_type": "code",
   "execution_count": 2,
   "id": "068d4449",
   "metadata": {},
   "outputs": [
    {
     "name": "stdout",
     "output_type": "stream",
     "text": [
      "1 2\n",
      "2 4\n",
      "3 6\n",
      "4 8\n",
      "5 10\n"
     ]
    }
   ],
   "source": [
    "a=[1,2,3,4,5]\n",
    "for i in a:\n",
    "    print(i,i*2)"
   ]
  },
  {
   "cell_type": "code",
   "execution_count": 3,
   "id": "adb51576",
   "metadata": {},
   "outputs": [
    {
     "name": "stdout",
     "output_type": "stream",
     "text": [
      "h\n",
      "e\n",
      "l\n",
      "l\n",
      "o\n",
      " \n",
      "w\n",
      "o\n",
      "r\n",
      "l\n",
      "d\n"
     ]
    }
   ],
   "source": [
    "a='hello world'\n",
    "for char in a:\n",
    "    print(char)"
   ]
  },
  {
   "cell_type": "markdown",
   "id": "54b83857",
   "metadata": {},
   "source": [
    "- **dict의 아이템 출력하기**\n",
    "  - dict의 경우 기본적으로 순회하게 하면 key값을 참조한다.\n",
    "  - keys() 함수를 히용하여 key값만 순회 가능\n",
    "  - **values() 함수를 이용하여 values 값만 순회 가능**"
   ]
  },
  {
   "cell_type": "code",
   "execution_count": 5,
   "id": "a86d7f21",
   "metadata": {},
   "outputs": [
    {
     "name": "stdout",
     "output_type": "stream",
     "text": [
      "korea\n",
      "seoul\n",
      "japan\n",
      "tokyo\n",
      "canada\n",
      "ottawa\n",
      "seoul\n",
      "tokyo\n",
      "ottawa\n"
     ]
    }
   ],
   "source": [
    "a={'korea':'seoul','japan':'tokyo','canada':'ottawa'}\n",
    "for key in a:\n",
    "    print(key)\n",
    "    print(a[key])\n",
    "for value in a.values():\n",
    "    print(value)"
   ]
  },
  {
   "cell_type": "code",
   "execution_count": 6,
   "id": "6e4d3527",
   "metadata": {},
   "outputs": [
    {
     "name": "stdout",
     "output_type": "stream",
     "text": [
      "korea seoul\n",
      "japan tokyo\n",
      "canada ottawa\n"
     ]
    }
   ],
   "source": [
    "for key, value in a.items():\n",
    "    print(key,value)"
   ]
  },
  {
   "cell_type": "markdown",
   "id": "4ee08e58",
   "metadata": {},
   "source": [
    "- **for에서 index 사용하기**\n",
    "  - 기본적으로 for에 리스트를 순회하는 경우, 값만 추출함\n",
    "  - enumerate 함수를 이용하여 인덱스와 같이 사용이 가능"
   ]
  },
  {
   "cell_type": "code",
   "execution_count": 8,
   "id": "b70d8c84",
   "metadata": {},
   "outputs": [
    {
     "name": "stdout",
     "output_type": "stream",
     "text": [
      "0 1\n",
      "1 2\n",
      "2 3\n",
      "3 4\n",
      "4 5\n",
      "1\n",
      "2\n",
      "3\n",
      "4\n",
      "5\n"
     ]
    }
   ],
   "source": [
    "a=[1,2,3,4,5]\n",
    "for key, value in enumerate(a):\n",
    "    print(key, value)\n",
    "for value in a:\n",
    "    print(value)"
   ]
  },
  {
   "cell_type": "markdown",
   "id": "c3174f84",
   "metadata": {},
   "source": [
    "- **len() 함수를 이용하여 collection의 길이를 구할 수 있다.**\n",
    "- 그 외 내장 함수의 종류 : sum()"
   ]
  },
  {
   "cell_type": "markdown",
   "id": "7ebe7f18",
   "metadata": {},
   "source": [
    "- **리스트를 쉽게 만들어보자**\n",
    "  - range() 함수를 이용하여 다양한 리스트를 간단하게 만들 수 있다."
   ]
  },
  {
   "cell_type": "code",
   "execution_count": 11,
   "id": "f173b1d7",
   "metadata": {},
   "outputs": [
    {
     "name": "stdout",
     "output_type": "stream",
     "text": [
      "[0, 1, 2, 3, 4]\n",
      "[1, 2, 3, 4]\n",
      "[1, 3]\n"
     ]
    }
   ],
   "source": [
    "a=list(range(5)) # 0~4까지의 리스트\n",
    "print(a)\n",
    "a=list(range(1,5)) #1부터 4까지의 리스트\n",
    "print(a)\n",
    "a=list(range(1,5,2)) # 1부터 2씩 건너뛰는 리스트\n",
    "print(a)"
   ]
  },
  {
   "cell_type": "markdown",
   "id": "da0def05",
   "metadata": {},
   "source": [
    "- **class 선언하기**\n",
    "  - 객체를 생성하기 위해 객체의 모체가 되는 class를 미리 선언해야 함\n",
    "  - 정의만 하고 싶다면 pass 키워드를 사용"
   ]
  },
  {
   "cell_type": "code",
   "execution_count": 1,
   "id": "54915bc8",
   "metadata": {},
   "outputs": [],
   "source": [
    "class Person:\n",
    "    pass"
   ]
  },
  {
   "cell_type": "code",
   "execution_count": 2,
   "id": "110f35b6",
   "metadata": {},
   "outputs": [
    {
     "name": "stdout",
     "output_type": "stream",
     "text": [
      "<class '__main__.Person'> <class '__main__.Person'>\n"
     ]
    }
   ],
   "source": [
    "bob=Person()\n",
    "cathy=Person()\n",
    "print(type(bob),type(cathy))"
   ]
  },
  {
   "cell_type": "markdown",
   "id": "2c00acf9",
   "metadata": {},
   "source": [
    "- **__init__(self)**\n",
    "  - 생성자, 클래스 인스턴스가 생성될 때 생성됨\n",
    "  - **self 인자는 항상 첫번째**에 오며 자기 자신을 가리킴\n",
    "  - 이름이 꼭 self일 필요는 없지만, 관례적으로 self로 사용\n",
    "  - 생성자에서는 해당 클래스가 다루는 데이터를 정의\n",
    "    - 이 데이터를 멤버 변수 또는 속성이라 함\n",
    "  - java의 this와 같은 개념"
   ]
  },
  {
   "cell_type": "code",
   "execution_count": 10,
   "id": "73afd4d9",
   "metadata": {},
   "outputs": [
    {
     "name": "stdout",
     "output_type": "stream",
     "text": [
      "<__main__.Person object at 0x00000223E6E6D5B0> is generated\n",
      "<__main__.Person object at 0x00000223E6E6D1C0> is generated\n",
      "aarom 10\n",
      "<__main__.Person2 object at 0x00000223E6B7B430> is generated\n",
      "<__main__.Person2 object at 0x00000223E6E6DDF0> is generated\n",
      "hello 은 잠을 잡니다\n"
     ]
    }
   ],
   "source": [
    "class Person:\n",
    "    def __init__(self):\n",
    "        print(self,'is generated')\n",
    "        self.name='Kate'\n",
    "        self.age=10\n",
    "        \n",
    "p1=Person()\n",
    "p2=Person()\n",
    "p1.name='aarom'\n",
    "print(p1.name,p1.age)\n",
    "\n",
    "class Person2:\n",
    "    def __init__(self, name, age):\n",
    "        print(self,'is generated')\n",
    "        self.name=name\n",
    "        self.age=age\n",
    "    def sleep(self):\n",
    "        print(self.name,'은 잠을 잡니다')\n",
    "        \n",
    "p3=Person2('hello',20)\n",
    "p4=Person2('bye',21)\n",
    "p3.sleep()"
   ]
  },
  {
   "cell_type": "markdown",
   "id": "ad5a008b",
   "metadata": {},
   "source": [
    "- **method type**\n",
    "  - instance method - 객체로 호출\n",
    "    - 메소드는 객체 레벨로 호출되기 때문에 해당 메소드를 호출한 객체에만 영향을 미침\n",
    "  - class method(static method) - 클래스로 호출\n",
    "    - 클래스 레벨로 호출되기 때문에 클래스 멤버 변수만 변경 가능\n",
    "    - 내부 변수 정의 없이 값의 변경만 이루어지는 함수일 때 주로 사용"
   ]
  },
  {
   "cell_type": "code",
   "execution_count": 13,
   "id": "69245450",
   "metadata": {},
   "outputs": [
    {
     "name": "stdout",
     "output_type": "stream",
     "text": [
      "30\n",
      "200\n"
     ]
    }
   ],
   "source": [
    "class Math:\n",
    "    @staticmethod\n",
    "    def add(a, b):\n",
    "        return a+b\n",
    "    @staticmethod\n",
    "    def multiply(a, b):\n",
    "        return a*b\n",
    "    \n",
    "print(Math.add(10,20))\n",
    "print(Math.multiply(10,20))"
   ]
  },
  {
   "cell_type": "markdown",
   "id": "066236cb",
   "metadata": {},
   "source": [
    "- **클래스 상속을 하려면 클래스(상속하려는 클래스)와 같은 소괄호로 묶어주면 됨**"
   ]
  },
  {
   "cell_type": "markdown",
   "id": "846c4464",
   "metadata": {},
   "source": [
    "- **연산자의 재정의**\n",
    "  - __init(self)__, __add(self)__등의 관계식에 집중\n",
    "  - [파이썬에 존재하는 데이터 모델들](https://docs.python.org/3/reference/datamodel.html)"
   ]
  },
  {
   "cell_type": "code",
   "execution_count": 14,
   "id": "f782814e",
   "metadata": {},
   "outputs": [
    {
     "name": "stdout",
     "output_type": "stream",
     "text": [
      "(1, 2)\n",
      "(3, 4)\n",
      "(4, 6)\n"
     ]
    }
   ],
   "source": [
    "class Point:\n",
    "    def __init__(self, x, y):\n",
    "        self.x=x\n",
    "        self.y=y\n",
    "    def __add__(self,pt):\n",
    "        new_x=self.x+pt.x\n",
    "        new_y=self.y+pt.y\n",
    "        return Point(new_x,new_y)\n",
    "    def __str__(self):\n",
    "        return '({}, {})'.format(self.x,self.y)\n",
    "    \n",
    "p1=Point(1,2)\n",
    "p2=Point(3,4)\n",
    "print(p1)\n",
    "print(p2)\n",
    "p3=p1+p2\n",
    "print(p3)"
   ]
  },
  {
   "cell_type": "code",
   "execution_count": null,
   "id": "9329542b",
   "metadata": {},
   "outputs": [],
   "source": []
  }
 ],
 "metadata": {
  "kernelspec": {
   "display_name": "Python 3",
   "language": "python",
   "name": "python3"
  },
  "language_info": {
   "codemirror_mode": {
    "name": "ipython",
    "version": 3
   },
   "file_extension": ".py",
   "mimetype": "text/x-python",
   "name": "python",
   "nbconvert_exporter": "python",
   "pygments_lexer": "ipython3",
   "version": "3.8.8"
  }
 },
 "nbformat": 4,
 "nbformat_minor": 5
}
