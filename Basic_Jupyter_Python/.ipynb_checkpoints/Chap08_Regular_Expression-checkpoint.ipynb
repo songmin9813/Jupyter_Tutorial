{
 "cells": [
  {
   "cell_type": "markdown",
   "id": "26ca76e1",
   "metadata": {},
   "source": [
    "- **정규 표현식**\n",
    "  - 특정한 패턴과 일치하는 문자열을 '검색', '치환', '제거'하는 기능을 지원\n",
    "  - 정규표현식의 도움없ㄹ이 패턴을 찾는 작업(Rule 기반)은 불완전하거나, 작업의 cost가 높음\n",
    "  - ex) 이메일 형식 판별, 전화번호 형식 판별, 숫자로만 이루어진 문자열 등\n",
    "  \n",
    "  \n",
    "\n",
    "- **raw string**\n",
    "  - 문자열 앞에 r이 붙으면 해당 문자열이 구성된 그대로 문자열로 변환"
   ]
  },
  {
   "cell_type": "code",
   "execution_count": 1,
   "id": "d997d1d5",
   "metadata": {},
   "outputs": [
    {
     "name": "stdout",
     "output_type": "stream",
     "text": [
      "abcdef\n",
      "\n",
      "abcde\\n\n"
     ]
    }
   ],
   "source": [
    "a='abcdef\\n'\n",
    "print(a)\n",
    "\n",
    "b=r'abcdef\\n'\n",
    "print(b)"
   ]
  },
  {
   "cell_type": "markdown",
   "id": "f801be1b",
   "metadata": {},
   "source": [
    "### 기본 패턴\n",
    "  - a, X, 9 등등 문자 하나하나의 character들은 정ㄹ확히 해당 문자와 일치\n",
    "    - 패턴 test는 test 문자열과 일치\n",
    "    - 대소문자의 경우 기본적으로 구별하나, 구별하지 않도록 설정 가능\n",
    "    \n",
    "    \n",
    "  - 몇몇 문자들에 대해서는 예외가 존재하는데, 이들은 특별한 의미로 사용됨\n",
    "    - ^ \\$ \\* \\+ \\? \\{ \\} \\[ \\] \\\\ \\| \\( \\)\n",
    "    \n",
    "    \n",
    "  - 마침표 : 어떤 한 개의 character와 일치(newline 제외)\n",
    "  \n",
    "  \n",
    "  - \\w - 문자 character와 일치\n",
    "  \n",
    "  \n",
    "  - \\s - 공백문자와 일치\n",
    "  \n",
    "  \n",
    "  - \\t, \\n, \\r - tab, newline, return\n",
    "  \n",
    "  \n",
    "  - \\d - 숫자 character와 일치\n",
    "  \n",
    "  \n",
    "  - ^ = 시작, $ = 끝 각각 문자열의 시작과 끝을 의미\n",
    "  \n",
    "  \n",
    "  - \\가 붙으면 스페셜한 의미가 없어짐."
   ]
  },
  {
   "cell_type": "markdown",
   "id": "0915f5b3",
   "metadata": {},
   "source": [
    "# 1. search\n",
    "\n",
    "- 첫번째로 패턴을 찾으면 match 객체를 반환\n",
    "- 패턴을 찾지 못하면 None 반환\n",
    "- re.search('탐색할 문자','전체 문자열')"
   ]
  },
  {
   "cell_type": "code",
   "execution_count": 7,
   "id": "5c60d75b",
   "metadata": {},
   "outputs": [
    {
     "name": "stdout",
     "output_type": "stream",
     "text": [
      "3\n",
      "6\n",
      "abc\n"
     ]
    }
   ],
   "source": [
    "import re\n",
    "m = re.search(r'abc','123abcdef')\n",
    "print(m.start()) #탐색된 인덱스의 첫번째\n",
    "print(m.end()) #탐색된 인덱스의 마지막(마지막은 미포함)\n",
    "print(m.group()) #그룹된 문자열을 반환"
   ]
  },
  {
   "cell_type": "code",
   "execution_count": 10,
   "id": "83e0ccdd",
   "metadata": {},
   "outputs": [
    {
     "data": {
      "text/plain": [
       "<re.Match object; span=(0, 2), match='11'>"
      ]
     },
     "execution_count": 10,
     "metadata": {},
     "output_type": "execute_result"
    }
   ],
   "source": [
    "m = re.search(r'\\d\\d','112abcdef119') #숫자 두 개가 나란히 있는 가장 첫 번째 경우를 찾아줌\n",
    "m"
   ]
  },
  {
   "cell_type": "code",
   "execution_count": 11,
   "id": "21f357f4",
   "metadata": {},
   "outputs": [
    {
     "data": {
      "text/plain": [
       "<re.Match object; span=(11, 15), match='*$AB'>"
      ]
     },
     "execution_count": 11,
     "metadata": {},
     "output_type": "execute_result"
    }
   ],
   "source": [
    "m = re.search(r'..\\w\\w','!@%$^&%&*$^*$ABCDadsf')\n",
    "m"
   ]
  },
  {
   "cell_type": "markdown",
   "id": "7f69933d",
   "metadata": {},
   "source": [
    "### [] 문자들의 범위를 나타내기 위해 사용(or)\n",
    "- [] 내부의 메타 캐릭터는 캐릭터 자체를 나타냄\n",
    "\n",
    "\n",
    "- [abcd] = a or b or c or d\n",
    "\n",
    "\n",
    "- [ab.^] = a or b or . or ^\n",
    "\n",
    "\n",
    "- [a-d] = 해당 문자 사이 범위에 속하는 문자 중 하나\n",
    "\n",
    "\n",
    "- [0-9] = 모든 숫자\n",
    "\n",
    "\n",
    "- [a-z] = 모든 소문자\n",
    "\n",
    "\n",
    "- [A-Z] = 모든 대문자\n",
    "\n",
    "\n",
    "- [a-zA-Z0-9] = 모든 알파벳 문자 및 숫자\n",
    "\n",
    "\n",
    "- [^0-9] : ^가 앞에 오면 해당 문자 패턴이 아닌 것과 매칭(not)"
   ]
  },
  {
   "cell_type": "code",
   "execution_count": 12,
   "id": "5d3a7ba2",
   "metadata": {},
   "outputs": [
    {
     "data": {
      "text/plain": [
       "<re.Match object; span=(0, 3), match='cat'>"
      ]
     },
     "execution_count": 12,
     "metadata": {},
     "output_type": "execute_result"
    }
   ],
   "source": [
    "re.search(r'[cbm]at','cat')"
   ]
  },
  {
   "cell_type": "code",
   "execution_count": 14,
   "id": "d3f5b1be",
   "metadata": {},
   "outputs": [
    {
     "data": {
      "text/plain": [
       "<re.Match object; span=(0, 5), match='^aron'>"
      ]
     },
     "execution_count": 14,
     "metadata": {},
     "output_type": "execute_result"
    }
   ],
   "source": [
    "re.search(r'[abc.^]aron','^aron')"
   ]
  },
  {
   "cell_type": "markdown",
   "id": "e6553ce8",
   "metadata": {},
   "source": [
    "- **역슬래쉬(\\\\)**\n",
    "  1. **다른 문자와 함께 사용되어 특수한 의미를 지님**\n",
    "    - \\\\d : 숫자들 **[0-9]와 동일**\n",
    "    - \\\\D : 숫자가 아닌 문자 **\\[^0-9\\]와 동일**\n",
    "    - \\\\s : 공백 문자(띄어쓰기, 탭, 엔터 등)\n",
    "    - \\\\S : 공백이 아닌 문자\n",
    "    - \\\\w : 알파벳 대소문자, **숫자 [0-9a-zA-Z]와 동일**\n",
    "    - \\\\W : non alpha-numeric **[^0-9a-zA-Z]와 동일**\n",
    "  - **역슬래쉬에 대문자가 붙으면 부정을 의미하는군**\n",
    "  2. **메타 캐릭터가 캐릭터 자체를 표현하도록 할 경우 사용**\n",
    "    - \\\\ \\\\\\\n",
    "   "
   ]
  },
  {
   "cell_type": "code",
   "execution_count": 18,
   "id": "d6689ced",
   "metadata": {},
   "outputs": [
    {
     "data": {
      "text/plain": [
       "<re.Match object; span=(5, 9), match=' and'>"
      ]
     },
     "execution_count": 18,
     "metadata": {},
     "output_type": "execute_result"
    }
   ],
   "source": [
    "re.search(r'\\sand','apple and banana')"
   ]
  },
  {
   "cell_type": "code",
   "execution_count": 19,
   "id": "ffca5a4d",
   "metadata": {},
   "outputs": [],
   "source": [
    "re.search(r'\\.and','sand') #검출되지 않음\n",
    "re.search(r'.and','sand') #검출됨 -> 아침표가 의미하는 건 모든 문자열"
   ]
  },
  {
   "cell_type": "markdown",
   "id": "67de039e",
   "metadata": {},
   "source": [
    "### 반복 패턴\n",
    "- 패턴 뒤에 위치하는 \\*, +, ?는 해당 패턴이 반복적으로 존재하는지 검사\n",
    "  - '+' -> 1번 이상의 패턴이 발생\n",
    "  - '\\*' -> 0번 이상의 패턴이 발생\n",
    "  - '?' -> 0 혹은 1번의 패턴이 발생\n",
    "  \n",
    "  \n",
    "- 반복 패턴의 경우 검색을 greedy로 동작하기 때문에, **가능한 많은 부분이 매칭되도록 한다.**"
   ]
  },
  {
   "cell_type": "code",
   "execution_count": 21,
   "id": "85a908cf",
   "metadata": {},
   "outputs": [
    {
     "data": {
      "text/plain": [
       "<re.Match object; span=(0, 8), match='abcddccb'>"
      ]
     },
     "execution_count": 21,
     "metadata": {},
     "output_type": "execute_result"
    }
   ],
   "source": [
    "re.search(r'a[acd]*b','abcddccb')"
   ]
  },
  {
   "cell_type": "code",
   "execution_count": 22,
   "id": "88e8c0aa",
   "metadata": {},
   "outputs": [
    {
     "data": {
      "text/plain": [
       "<re.Match object; span=(0, 6), match='banana'>"
      ]
     },
     "execution_count": 22,
     "metadata": {},
     "output_type": "execute_result"
    }
   ],
   "source": [
    "re.search(r'b\\w+a','banana')"
   ]
  },
  {
   "cell_type": "code",
   "execution_count": 23,
   "id": "b457a295",
   "metadata": {},
   "outputs": [
    {
     "data": {
      "text/plain": [
       "<re.Match object; span=(0, 2), match='ba'>"
      ]
     },
     "execution_count": 23,
     "metadata": {},
     "output_type": "execute_result"
    }
   ],
   "source": [
    "re.search(r'b\\w?a','banana')"
   ]
  },
  {
   "cell_type": "code",
   "execution_count": 32,
   "id": "92a0336c",
   "metadata": {},
   "outputs": [
    {
     "data": {
      "text/plain": [
       "<re.Match object; span=(1, 3), match='ii'>"
      ]
     },
     "execution_count": 32,
     "metadata": {},
     "output_type": "execute_result"
    }
   ],
   "source": [
    "re.search(r'i+','piigiii') #이건 왜 3개가 아닌거지"
   ]
  },
  {
   "cell_type": "code",
   "execution_count": 33,
   "id": "11d796b4",
   "metadata": {},
   "outputs": [],
   "source": [
    "re.search(r'pi+g','pg')"
   ]
  },
  {
   "cell_type": "code",
   "execution_count": 34,
   "id": "3b7309e4",
   "metadata": {},
   "outputs": [
    {
     "data": {
      "text/plain": [
       "<re.Match object; span=(0, 2), match='pg'>"
      ]
     },
     "execution_count": 34,
     "metadata": {},
     "output_type": "execute_result"
    }
   ],
   "source": [
    "re.search(r'pi*g','pg')"
   ]
  },
  {
   "cell_type": "code",
   "execution_count": 35,
   "id": "3c16555d",
   "metadata": {},
   "outputs": [
    {
     "data": {
      "text/plain": [
       "<re.Match object; span=(0, 4), match='http'>"
      ]
     },
     "execution_count": 35,
     "metadata": {},
     "output_type": "execute_result"
    }
   ],
   "source": [
    "re.search(r'https?','http://www.naver.com')"
   ]
  },
  {
   "cell_type": "markdown",
   "id": "8a4a310b",
   "metadata": {},
   "source": [
    "- \\^\\*, \\*\\$\n",
    "  - ^ : 문자열의 맨 앞을 특정 문자로 강제+처음으로 나오는 문자\n",
    "  - \\$ : 문자열의 맨 뒤를 특정 문자로 강제+처음으로 나오는 문자"
   ]
  },
  {
   "cell_type": "code",
   "execution_count": 36,
   "id": "07ec897a",
   "metadata": {},
   "outputs": [
    {
     "data": {
      "text/plain": [
       "<re.Match object; span=(2, 6), match='bana'>"
      ]
     },
     "execution_count": 36,
     "metadata": {},
     "output_type": "execute_result"
    }
   ],
   "source": [
    "re.search(r'b\\w+a','cabana')"
   ]
  },
  {
   "cell_type": "code",
   "execution_count": 37,
   "id": "9cf74d4d",
   "metadata": {},
   "outputs": [],
   "source": [
    "re.search(r'^b\\w+a','cabana')#검출 안 됨"
   ]
  },
  {
   "cell_type": "code",
   "execution_count": 38,
   "id": "c47ed97d",
   "metadata": {},
   "outputs": [
    {
     "data": {
      "text/plain": [
       "<re.Match object; span=(0, 6), match='babana'>"
      ]
     },
     "execution_count": 38,
     "metadata": {},
     "output_type": "execute_result"
    }
   ],
   "source": [
    "re.search(r'b\\w+a','babana')"
   ]
  },
  {
   "cell_type": "code",
   "execution_count": 39,
   "id": "f7d9b9a2",
   "metadata": {},
   "outputs": [
    {
     "data": {
      "text/plain": [
       "<re.Match object; span=(2, 6), match='bana'>"
      ]
     },
     "execution_count": 39,
     "metadata": {},
     "output_type": "execute_result"
    }
   ],
   "source": [
    "re.search(r'b\\w+a*','cabana')"
   ]
  },
  {
   "cell_type": "markdown",
   "id": "e0310ab1",
   "metadata": {},
   "source": [
    "### grouping\n",
    "- ()를 사용하여 그루핑\n",
    "- 매칭 결과를 각 그룹별로 분리 가능\n",
    "- 패턴 명시할 때, 각 그룹을 괄호() 안에 넣어 분리하여 사용"
   ]
  },
  {
   "cell_type": "code",
   "execution_count": 47,
   "id": "7d438000",
   "metadata": {},
   "outputs": [
    {
     "name": "stdout",
     "output_type": "stream",
     "text": [
      "test\n",
      "gmail\n",
      "com\n"
     ]
    }
   ],
   "source": [
    "m=re.search(r'(\\w+)@(.+)\\.(.+)','test@gmail.com')#그루핑을 하기 위한 소괄호 작업\n",
    "print(m.group(1))\n",
    "print(m.group(2))\n",
    "print(m.group(3))"
   ]
  },
  {
   "cell_type": "markdown",
   "id": "06e80254",
   "metadata": {},
   "source": [
    "### {}\n",
    "- 기존 반복 패턴을 사용하여 반복적인 패턴을 찾는 것이 가능하나, 반복의 횟수 제한은 불가\n",
    "- 이에 패턴 뒤에 중괄호를 붙여 해당 숫자 만큼의 반복인 경우에만 매칭시킬 수 있는 기능을 탑재\n",
    "- {3} - 3번 반복하는 경우\n",
    "- {3,5} - 3번에서 5번 반복하는 경우(중복 시 최댓값)"
   ]
  },
  {
   "cell_type": "code",
   "execution_count": 48,
   "id": "537ab8a2",
   "metadata": {},
   "outputs": [],
   "source": [
    "re.search(r'pi{3}g','piiiig') #검출하지 않음"
   ]
  },
  {
   "cell_type": "code",
   "execution_count": 50,
   "id": "babf82fc",
   "metadata": {},
   "outputs": [
    {
     "data": {
      "text/plain": [
       "<re.Match object; span=(0, 5), match='piiig'>"
      ]
     },
     "execution_count": 50,
     "metadata": {},
     "output_type": "execute_result"
    }
   ],
   "source": [
    "re.search(r'pi{3}g','piiig') #검출함"
   ]
  },
  {
   "cell_type": "markdown",
   "id": "e48c01e7",
   "metadata": {},
   "source": [
    "### 미니멈 매칭(non-greedy way)\n",
    "- 기본적으로 반복 기호를 사용하면 greedy하게 동작함\n",
    "- \\*?, +?을 이용하여 해당 기능을 구현\n",
    "- {}?같은 경우에는 최소값만 반환하고 종료"
   ]
  },
  {
   "cell_type": "code",
   "execution_count": 51,
   "id": "64b3bc11",
   "metadata": {},
   "outputs": [
    {
     "data": {
      "text/plain": [
       "<re.Match object; span=(0, 17), match='<html>haha</htnl>'>"
      ]
     },
     "execution_count": 51,
     "metadata": {},
     "output_type": "execute_result"
    }
   ],
   "source": [
    "re.search(r'<.+>','<html>haha</htnl>')#기본값은 최대임"
   ]
  },
  {
   "cell_type": "code",
   "execution_count": 52,
   "id": "18556040",
   "metadata": {},
   "outputs": [
    {
     "data": {
      "text/plain": [
       "<re.Match object; span=(0, 6), match='<html>'>"
      ]
     },
     "execution_count": 52,
     "metadata": {},
     "output_type": "execute_result"
    }
   ],
   "source": [
    "re.search(r'<.+?>','<html>haha</htnl>')#최소한의 검출만 하고 종료"
   ]
  },
  {
   "cell_type": "code",
   "execution_count": 55,
   "id": "6382aaab",
   "metadata": {},
   "outputs": [
    {
     "data": {
      "text/plain": [
       "<re.Match object; span=(0, 5), match='aaaaa'>"
      ]
     },
     "execution_count": 55,
     "metadata": {},
     "output_type": "execute_result"
    }
   ],
   "source": [
    "re.search('a{3,5}','aaaaa')#greedy하게 동작되는 중괄호"
   ]
  },
  {
   "cell_type": "code",
   "execution_count": 56,
   "id": "abfc2174",
   "metadata": {},
   "outputs": [
    {
     "data": {
      "text/plain": [
       "<re.Match object; span=(0, 3), match='aaa'>"
      ]
     },
     "execution_count": 56,
     "metadata": {},
     "output_type": "execute_result"
    }
   ],
   "source": [
    "re.search('a{3,5}?','aaaaa')#no-greedy하게 동작되는 중괄호"
   ]
  },
  {
   "cell_type": "markdown",
   "id": "f81b4503",
   "metadata": {},
   "source": [
    "# 2. match\n",
    "- search와 유사하나 주어진 문자열의 시작부터 비효하여 패턴이 있는지 확인\n",
    "- 시작부터 해당 패턴이 존재하지 않는다면 None 반환\n",
    "- 시작부터 진행하다 **한 번이라도 틀리게 되면 None임에 유의**\n",
    "- search에서 앞부분에 ^를 사용하는 것과 같은 기능"
   ]
  },
  {
   "cell_type": "code",
   "execution_count": 57,
   "id": "70b557a4",
   "metadata": {},
   "outputs": [],
   "source": [
    "re.match(r'\\d\\d\\d','my number is 123')#처음부터 틀려서 None"
   ]
  },
  {
   "cell_type": "code",
   "execution_count": 60,
   "id": "43cbff00",
   "metadata": {},
   "outputs": [
    {
     "data": {
      "text/plain": [
       "<re.Match object; span=(0, 3), match='123'>"
      ]
     },
     "execution_count": 60,
     "metadata": {},
     "output_type": "execute_result"
    }
   ],
   "source": [
    "re.match(r'\\d\\d\\d','123 is my number')#처음부터 시작하여 적중하는 순간 반환"
   ]
  },
  {
   "cell_type": "markdown",
   "id": "0523719c",
   "metadata": {},
   "source": [
    "# 3. findall\n",
    "- 매칭되는 전체의 패턴을 리스트 형태로 반환"
   ]
  },
  {
   "cell_type": "code",
   "execution_count": 63,
   "id": "93aa0524",
   "metadata": {},
   "outputs": [
    {
     "data": {
      "text/plain": [
       "['test@gmail.com', 'test2@gmail.com', 'test3@hanmail.net']"
      ]
     },
     "execution_count": 63,
     "metadata": {},
     "output_type": "execute_result"
    }
   ],
   "source": [
    "re.findall('[\\w]+@[\\w.]+','test@gmail.com haha test2@gmail.com lol test3@hanmail.net')"
   ]
  },
  {
   "cell_type": "code",
   "execution_count": 64,
   "id": "eb2b885b",
   "metadata": {},
   "outputs": [
    {
     "data": {
      "text/plain": [
       "<re.Match object; span=(0, 14), match='test@gmail.com'>"
      ]
     },
     "execution_count": 64,
     "metadata": {},
     "output_type": "execute_result"
    }
   ],
   "source": [
    "re.search('[\\w]+@[\\w.]+','test@gmail.com haha test2@gmail.com lol test3@hanmail.net')"
   ]
  },
  {
   "cell_type": "markdown",
   "id": "85ae29b5",
   "metadata": {},
   "source": [
    "# 3. sub\n",
    "- 주어진 문자열에서 일치하는 모든 패턴을 replace\n",
    "- 그 결과를 문자열로 다시 반환함\n",
    "- 두번째 인자는 특정 문자열이 될 수도 있고, 함수가 될 수도 있음\n",
    "- count가 0인 경우는 전체를, 1 이상이면 해당 숫자만큼 치환됨"
   ]
  },
  {
   "cell_type": "code",
   "execution_count": 65,
   "id": "570804fe",
   "metadata": {},
   "outputs": [
    {
     "data": {
      "text/plain": [
       "'great haha great lol great'"
      ]
     },
     "execution_count": 65,
     "metadata": {},
     "output_type": "execute_result"
    }
   ],
   "source": [
    "re.sub('[\\w]+@[\\w.]+','great','test@gmail.com haha test2@gmail.com lol test3@hanmail.net')\n",
    "#찾은 이메일 패턴을 모두 great로 치환한다."
   ]
  },
  {
   "cell_type": "code",
   "execution_count": 66,
   "id": "48f36702",
   "metadata": {},
   "outputs": [
    {
     "data": {
      "text/plain": [
       "'great haha test2@gmail.com lol test3@hanmail.net'"
      ]
     },
     "execution_count": 66,
     "metadata": {},
     "output_type": "execute_result"
    }
   ],
   "source": [
    "re.sub('[\\w]+@[\\w.]+','great','test@gmail.com haha test2@gmail.com lol test3@hanmail.net', count=1)\n",
    "#count의 기본값은 0. 뒤에 임의로 변경하게 되면 바꾸는 개수를 조절할 수 있음"
   ]
  },
  {
   "cell_type": "markdown",
   "id": "c9c5fc81",
   "metadata": {},
   "source": [
    "# 4. compile\n",
    "- 동일한 정규표현식을 매번 다시 쓰기 번거로움을 해결\n",
    "- compile로 해당 표현식을 re.RegexObject 객체로 저장하여 사용가능\n",
    "- 자주 사용할 것 같은 표현식을 사전에 compile하여 편리성 증대"
   ]
  },
  {
   "cell_type": "code",
   "execution_count": 67,
   "id": "6de8c768",
   "metadata": {},
   "outputs": [
    {
     "data": {
      "text/plain": [
       "<re.Match object; span=(0, 14), match='test@gmail.com'>"
      ]
     },
     "execution_count": 67,
     "metadata": {},
     "output_type": "execute_result"
    }
   ],
   "source": [
    "email_reg=re.compile(r'[\\w]+@[\\w.]+') #email_reg 표현식을 compile을 이용해 한 번 만들어 놓으면\n",
    "\n",
    "email_reg.search('test@gmail.com')#이후 편리하게 사용 가능"
   ]
  },
  {
   "cell_type": "markdown",
   "id": "48254362",
   "metadata": {},
   "source": [
    "- 아래의 크롤링 데이터 중 이메일만 따로 빼서 저장해보기"
   ]
  },
  {
   "cell_type": "code",
   "execution_count": 69,
   "id": "349987c7",
   "metadata": {},
   "outputs": [
    {
     "name": "stdout",
     "output_type": "stream",
     "text": [
      "(로스앤젤레스=연합뉴스) 옥철 특파원 = 팀 쿡 애플 최고경영자(CEO)가 16일(현지시간) 실리콘밸리 앞마당 격인 미국 서부 명문 스탠퍼드대학 학위수여식에서 테크기업들을 향해 쓴소리를 쏟아냈다.쿡은 이날 연설에서 실리콘밸리 테크기업들은 자신들이 만든 혼란에 대한 책임을 질 필요가 있다고 경고했다.근래 IT 업계의 가장 큰 이슈인 개인정보 침해, 사생활 보호 문제를 콕 집어 라이벌인 구글, 페이스북 등 IT 공룡을 겨냥한 발언이라는 해석이 나왔다.쿡은 \"최근 실리콘밸리 산업은 고귀한 혁신과는 점점 더 거리가 멀어지는 것으로 알려져 있다. 책임을 받아들이지 않고도 신뢰를 얻을 수 있다는 그런 믿음 말이다\"라고 꼬집었다.개인정보 유출 사건으로 미 의회 청문회에 줄줄이 불려 나간 경쟁사 CEO들을 향해 일침을 가한 것으로 보인다.그는 또 실리콘밸리에서 희대의 사기극을 연출한 바이오벤처 스타트업 테라노스(Theranos)를 직격했다.쿡은 \"피 한 방울로 거짓된 기적을 만들 수 있다고 믿었느냐\"면서 \"이런 식으로 혼돈의 공장을 만든다면 그 책임에서 절대 벗어날 수 없다\"라고 비난했다.테라노스는 손가락 끝을 찔러 극미량의 혈액 샘플만 있으면 각종 의학정보 분석은 물론 거의 모든 질병 진단이 가능한 바이오헬스 기술을 개발했다고 속여 월가 큰손들로부터 거액의 투자를 유치했다가 해당 기술이 사기인 것으로 드러나 청산한 기업이다.쿡은 애플의 경우 프라이버시(사생활) 보호에 초점을 맞춘 새로운 제품 기능들로 경쟁사들에 맞서고 있다며 자사의 데이터 보호 정책을 은근히 홍보하기도 했다.oakchul@yna.co.kr저작권자(c)연합뉴스. 무단전재-재배포금지\n"
     ]
    }
   ],
   "source": [
    "import requests\n",
    "from bs4 import BeautifulSoup\n",
    "\n",
    "def get_news_content(url):\n",
    "    response=requests.get(url)\n",
    "    content=response.text\n",
    "    \n",
    "    soup=BeautifulSoup(content,'html5lib')\n",
    "    \n",
    "    div=soup.find('div',attrs={'id' : 'harmonyContainer'})\n",
    "    \n",
    "    content=''\n",
    "    for paragraph in div.find_all('p'):\n",
    "        content += paragraph.get_text()\n",
    "    return content\n",
    "\n",
    "news1=get_news_content('https://news.v.daum.net/v/20190617073049838')\n",
    "print(news1)\n",
    "    "
   ]
  },
  {
   "cell_type": "code",
   "execution_count": 77,
   "id": "1c945815",
   "metadata": {},
   "outputs": [
    {
     "name": "stdout",
     "output_type": "stream",
     "text": [
      "<re.Match object; span=(774, 791), match='oakchul@yna.co.kr'>\n"
     ]
    }
   ],
   "source": [
    "email_data=re.search(r'\\w+@.+kr',news1)\n",
    "print(email_data)"
   ]
  },
  {
   "cell_type": "markdown",
   "id": "3023a359",
   "metadata": {},
   "source": [
    "- 아래의 url 중 유효한 데이터만 추출해보기"
   ]
  },
  {
   "cell_type": "code",
   "execution_count": 94,
   "id": "014242d1",
   "metadata": {},
   "outputs": [
    {
     "data": {
      "text/plain": [
       "[True, True, True, False, False, False, True, False]"
      ]
     },
     "execution_count": 94,
     "metadata": {},
     "output_type": "execute_result"
    }
   ],
   "source": [
    "webs=['http://www.test.co.kr',\n",
    "     'https://www.test1.co.kr',\n",
    "     'https://www.test.com',\n",
    "     'ftp://www.test.com',\n",
    "     'http:://www.test.com',\n",
    "     'htp://www.test.com',\n",
    "     'http://www.google.com',\n",
    "     'https://www.homepage.com.']\n",
    "web_reg=re.compile(r'https?://[\\w\\.]+\\w+$')\n",
    "list(map(lambda w:web_reg.search(w)!=None,webs))"
   ]
  },
  {
   "cell_type": "code",
   "execution_count": null,
   "id": "ddf409a3",
   "metadata": {},
   "outputs": [],
   "source": []
  },
  {
   "cell_type": "code",
   "execution_count": null,
   "id": "4bbf496b",
   "metadata": {},
   "outputs": [],
   "source": []
  }
 ],
 "metadata": {
  "kernelspec": {
   "display_name": "Python 3",
   "language": "python",
   "name": "python3"
  },
  "language_info": {
   "codemirror_mode": {
    "name": "ipython",
    "version": 3
   },
   "file_extension": ".py",
   "mimetype": "text/x-python",
   "name": "python",
   "nbconvert_exporter": "python",
   "pygments_lexer": "ipython3",
   "version": "3.8.8"
  }
 },
 "nbformat": 4,
 "nbformat_minor": 5
}
