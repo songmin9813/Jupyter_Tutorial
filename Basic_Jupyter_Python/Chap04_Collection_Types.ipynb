{
 "cells": [
  {
   "cell_type": "markdown",
   "id": "c54ca5ae",
   "metadata": {},
   "source": [
    "**리스트, 튜플**\n",
    "- 복수개의 값을 담을 수 있는 데이터 구조\n",
    "- 실생활에서 사용하는 리스트와 동일한 의미로 이해\n",
    "- list -mutable(생성된 후에 변경 가능)\n",
    "- tuple -immutable(생성된 후에 변경 불가능)\n",
    "\n",
    "**리스트 초기화**\n",
    "- []안에 값을 담아서 생성\n",
    "- list()함수로 생성\n",
    "- str.split로 생성"
   ]
  },
  {
   "cell_type": "code",
   "execution_count": 1,
   "id": "ba96fbd4",
   "metadata": {},
   "outputs": [
    {
     "name": "stdout",
     "output_type": "stream",
     "text": [
      "['korea', 'canada', 1, 3, [23, 21]]\n"
     ]
    }
   ],
   "source": [
    "a=['korea', 'canada',1,3,[23,21]]\n",
    "print(a)"
   ]
  },
  {
   "cell_type": "code",
   "execution_count": 2,
   "id": "52baecec",
   "metadata": {},
   "outputs": [
    {
     "name": "stdout",
     "output_type": "stream",
     "text": [
      "['h', 'e', 'l', 'l', 'o', ' ', 'w', 'o', 'r', 'l', 'd']\n"
     ]
    }
   ],
   "source": [
    "a='hello world'\n",
    "b=list(a)\n",
    "print(b)"
   ]
  },
  {
   "cell_type": "code",
   "execution_count": 3,
   "id": "f54bcc79",
   "metadata": {},
   "outputs": [
    {
     "name": "stdout",
     "output_type": "stream",
     "text": [
      "[1, 2, 3]\n"
     ]
    }
   ],
   "source": [
    "c=(1,2,3)\n",
    "d=list(c)\n",
    "print(d)"
   ]
  },
  {
   "cell_type": "markdown",
   "id": "0141d42c",
   "metadata": {},
   "source": [
    "**string split 함수(자주 사용)**\n",
    "- 구분자로 구분되는 리스트를 반환"
   ]
  },
  {
   "cell_type": "code",
   "execution_count": 5,
   "id": "12778044",
   "metadata": {},
   "outputs": [
    {
     "name": "stdout",
     "output_type": "stream",
     "text": [
      "['hello', 'mr', 'my', 'yesterday']\n"
     ]
    }
   ],
   "source": [
    "a='hello mr my yesterday'\n",
    "b=a.split()\n",
    "print(b)"
   ]
  },
  {
   "cell_type": "markdown",
   "id": "f759e50a",
   "metadata": {},
   "source": [
    "- 리스트 개별 아이템 역시 인덱스를 이용하여 접근/업데이트 가능"
   ]
  },
  {
   "cell_type": "code",
   "execution_count": 7,
   "id": "65eae524",
   "metadata": {},
   "outputs": [
    {
     "name": "stdout",
     "output_type": "stream",
     "text": [
      "h\n",
      "jello world\n"
     ]
    }
   ],
   "source": [
    "a='hello world'#스트링 타입은 불변개체\n",
    "print(a[0])\n",
    "b='j'+a[1:]\n",
    "print(b)\n",
    "#replace를 사용한다 해도 a의 값은 변하지 않음"
   ]
  },
  {
   "cell_type": "markdown",
   "id": "795441a9",
   "metadata": {},
   "source": [
    "**리스트 slicing**\n",
    "- 문자열 슬라이싱과 동일하게 동작\n",
    "- 슬라이시의 결과 역시 리스트"
   ]
  },
  {
   "cell_type": "code",
   "execution_count": 9,
   "id": "402d69c6",
   "metadata": {},
   "outputs": [
    {
     "name": "stdout",
     "output_type": "stream",
     "text": [
      "[5, 6, 7]\n",
      "[1, 2, 3, 4, 5, 6, 7]\n",
      "[4, 5, 6, 7, 8]\n",
      "[2, 4, 6]\n"
     ]
    }
   ],
   "source": [
    "a=[1,2,3,4,5,6,7,8]\n",
    "print(a[4:7])\n",
    "print(a[:7])\n",
    "print(a[3:])\n",
    "#start:end:increment(1)\n",
    "print(a[1:7:2])"
   ]
  },
  {
   "cell_type": "markdown",
   "id": "355c61ee",
   "metadata": {},
   "source": [
    "**list 멤버 함수**\n",
    "- 생성된 리스트 객체에 동작하는 함수\n",
    "- 향후, 클래스와 멤버 함수 개념을 이해할 예정\n",
    "\n",
    "- **append()**\n",
    "  - 리스트의 끝에 항목을 추가함"
   ]
  },
  {
   "cell_type": "code",
   "execution_count": 10,
   "id": "3e286c47",
   "metadata": {},
   "outputs": [
    {
     "name": "stdout",
     "output_type": "stream",
     "text": [
      "[1, 2, 3, 4, 5]\n",
      "[1, 2, 3, 4, 5, 6]\n"
     ]
    }
   ],
   "source": [
    "a=[1,2,3,4,5]\n",
    "print(a)\n",
    "a.append(6)\n",
    "print(a)"
   ]
  },
  {
   "cell_type": "markdown",
   "id": "d9b85466",
   "metadata": {},
   "source": [
    "- **extend()**\n",
    "  - 리스트를 연장, +=로도 사용가능"
   ]
  },
  {
   "cell_type": "code",
   "execution_count": 12,
   "id": "9abffed3",
   "metadata": {},
   "outputs": [
    {
     "name": "stdout",
     "output_type": "stream",
     "text": [
      "[1, 2, 3, 4, 5, [6, 7, 8, 9, 10]]\n",
      "[1, 2, 3, 4, 5, 6, 7, 8, 9, 10]\n"
     ]
    }
   ],
   "source": [
    "a1=[1,2,3,4,5]\n",
    "a2=[1,2,3,4,5]\n",
    "b=[6,7,8,9,10]\n",
    "a1.append(b)\n",
    "print(a1)\n",
    "a2.extend(b)\n",
    "print(a2)"
   ]
  },
  {
   "cell_type": "markdown",
   "id": "13aa4e05",
   "metadata": {},
   "source": [
    "- **insert()로 항목 추가**\n",
    "  - 리스트의 원하는 위치에 추가 가능\n",
    "  - 앞에 인덱스, 뒤에 아이템을 명시"
   ]
  },
  {
   "cell_type": "code",
   "execution_count": 13,
   "id": "c3ced176",
   "metadata": {},
   "outputs": [
    {
     "name": "stdout",
     "output_type": "stream",
     "text": [
      "[1, 40, 2, 3, 4, 5]\n"
     ]
    }
   ],
   "source": [
    "a=[1,2,3,4,5]\n",
    "a.insert(1,40)\n",
    "print(a)"
   ]
  },
  {
   "cell_type": "markdown",
   "id": "efc551a6",
   "metadata": {},
   "source": [
    "- **remove()**\n",
    "  - 값으로 항목 삭제"
   ]
  },
  {
   "cell_type": "code",
   "execution_count": 16,
   "id": "fcc93ee3",
   "metadata": {},
   "outputs": [
    {
     "name": "stdout",
     "output_type": "stream",
     "text": [
      "[1, 2, 4, 3, 3, 5]\n"
     ]
    }
   ],
   "source": [
    "a=[1,2,3,4,3,3,5]\n",
    "a.remove(3)\n",
    "print(a)"
   ]
  },
  {
   "cell_type": "markdown",
   "id": "3456956d",
   "metadata": {},
   "source": [
    "- **pop()**\n",
    "  - 지우고자 하는 아이템을 반환 후 삭제"
   ]
  },
  {
   "cell_type": "code",
   "execution_count": 18,
   "id": "e114985e",
   "metadata": {},
   "outputs": [
    {
     "name": "stdout",
     "output_type": "stream",
     "text": [
      "[1, 2, 3, 4]\n"
     ]
    }
   ],
   "source": [
    "a=[1,2,3,4,5]\n",
    "a.pop()\n",
    "print(a)"
   ]
  },
  {
   "cell_type": "markdown",
   "id": "a63ffec1",
   "metadata": {},
   "source": [
    "- **index()**\n",
    "  - 찾고자 하는 값의 인덱스 반환"
   ]
  },
  {
   "cell_type": "code",
   "execution_count": 19,
   "id": "a8cbf556",
   "metadata": {},
   "outputs": [
    {
     "data": {
      "text/plain": [
       "3"
      ]
     },
     "execution_count": 19,
     "metadata": {},
     "output_type": "execute_result"
    }
   ],
   "source": [
    "a=[2,6,7,9,10]\n",
    "a.index(9)"
   ]
  },
  {
   "cell_type": "markdown",
   "id": "e68198f6",
   "metadata": {},
   "source": [
    "- **in 키워드**\n",
    "  - 리스트 내에 해당 값이 있는지 확인\n",
    "  - value in [list]\n",
    "  - 불리언 값 반환"
   ]
  },
  {
   "cell_type": "code",
   "execution_count": 20,
   "id": "5af6068c",
   "metadata": {},
   "outputs": [
    {
     "name": "stdout",
     "output_type": "stream",
     "text": [
      "False\n"
     ]
    }
   ],
   "source": [
    "a=[1,2,3,4,5,6]\n",
    "b=10\n",
    "c=b in a\n",
    "print(c)"
   ]
  },
  {
   "cell_type": "markdown",
   "id": "754c8efa",
   "metadata": {},
   "source": [
    "- **list 정렬**\n",
    "  - sort() : 리스트 자체를 내부적으로 정렬\n",
    "  - sorted() : 리스트의 정렬된 복사본을 반환"
   ]
  },
  {
   "cell_type": "code",
   "execution_count": 21,
   "id": "d4b1cd50",
   "metadata": {},
   "outputs": [
    {
     "name": "stdout",
     "output_type": "stream",
     "text": [
      "[21, 20, 19, 10, 9, 7, 7, 2, 1]\n",
      "[1, 2, 7, 7, 9, 10, 19, 20, 21]\n"
     ]
    }
   ],
   "source": [
    "a=[9,10,7,19,2,1,20,21,7]\n",
    "a.sort(reverse=True) #내림차순\n",
    "b=sorted(a)\n",
    "print(a)\n",
    "print(b)"
   ]
  },
  {
   "cell_type": "markdown",
   "id": "43821c29",
   "metadata": {},
   "source": [
    "- **tuple**\n",
    "  - 리스트와 같이 복수개의 값을 갖는 컬렉션 타입\n",
    "  - 생성된 후 변경 불가능"
   ]
  },
  {
   "cell_type": "code",
   "execution_count": 22,
   "id": "c13d86f6",
   "metadata": {},
   "outputs": [
    {
     "name": "stdout",
     "output_type": "stream",
     "text": [
      "<class 'list'>\n",
      "<class 'tuple'>\n"
     ]
    }
   ],
   "source": [
    "a=[1,2,3]\n",
    "b=(1,2,3)\n",
    "print(type(a))\n",
    "print(type(b))\n",
    "#b[0]=100 불가능"
   ]
  },
  {
   "cell_type": "markdown",
   "id": "fb320d30",
   "metadata": {},
   "source": [
    "- **tuple unpacking**\n",
    "  - 튜플의 값을 차례대로 변수에 대입"
   ]
  },
  {
   "cell_type": "code",
   "execution_count": 25,
   "id": "340cdf71",
   "metadata": {},
   "outputs": [
    {
     "name": "stdout",
     "output_type": "stream",
     "text": [
      "1 2 3 4\n",
      "5 6 7 8\n"
     ]
    }
   ],
   "source": [
    "a,b,c,d=(1,2,3,4)\n",
    "print(a,b,c,d)\n",
    "a,b,c,d=5,6,7,8 #tuple의 소괄호는 생략 가능\n",
    "print(a,b,c,d)"
   ]
  },
  {
   "cell_type": "markdown",
   "id": "e66f0481",
   "metadata": {},
   "source": [
    "- **dictionary**\n",
    "  - 키와 값을 가지는 데이터 구조\n",
    "  - 키는 내부적으로 hash값으로 저장\n",
    "  - **순서를 따지지 않음. 즉, 인덱스가 없음**"
   ]
  },
  {
   "cell_type": "code",
   "execution_count": 30,
   "id": "fba43abb",
   "metadata": {},
   "outputs": [
    {
     "name": "stdout",
     "output_type": "stream",
     "text": [
      "{'Korea': 'Seoul', 'Canadea': 'Ottawa', 'USA': 'Wasington D.C'}\n",
      "<class 'dict'>\n",
      "Seoul\n",
      "1\n"
     ]
    }
   ],
   "source": [
    "a={'Korea':'Seoul','Canadea':'Ottawa','USA':'Wasington D.C'}\n",
    "print(a)\n",
    "print(type(a))\n",
    "print(a['Korea'])\n",
    "#print(a[0])는 에러 출력\n",
    "\n",
    "b={0:1,1:6,7:9}\n",
    "print(b[0])#요건 왜 될까?"
   ]
  },
  {
   "cell_type": "markdown",
   "id": "6f4e7049",
   "metadata": {},
   "source": [
    "- **항목 추가 및 변경**\n",
    "  - 기존에 키가 존재하면 새로운 값으로 업데이트\n",
    "  - 존재하지 않으면 새로운 키/값 생성\n",
    "  - 키의 중복은 있을 수 없음(hash값은 유일해야 함)"
   ]
  },
  {
   "cell_type": "code",
   "execution_count": 32,
   "id": "fe8e9d69",
   "metadata": {},
   "outputs": [
    {
     "name": "stdout",
     "output_type": "stream",
     "text": [
      "{'Korea': 'Seoul', 'Canadea': 'Ottawa', 'USA': 'Wasington D.C'}\n",
      "{'Korea': 'Hi', 'Canadea': 'Ottawa', 'USA': 'Wasington D.C', 'Japan': 'Tokyo'}\n"
     ]
    }
   ],
   "source": [
    "a={'Korea':'Seoul','Canadea':'Ottawa','USA':'Wasington D.C'}\n",
    "print(a)\n",
    "a['Japan']='Tokyo'\n",
    "a['Korea']='Hi'\n",
    "print(a)"
   ]
  },
  {
   "cell_type": "markdown",
   "id": "3f16fcab",
   "metadata": {},
   "source": [
    "- **update()**\n",
    "  - 두 딕셔너리를 병합함\n",
    "  - 겹치는 키가 있다면 parameter로 전달되는 키 값이 overwrite된다."
   ]
  },
  {
   "cell_type": "code",
   "execution_count": 33,
   "id": "86397807",
   "metadata": {},
   "outputs": [
    {
     "name": "stdout",
     "output_type": "stream",
     "text": [
      "{'a': 2, 'b': 2, 'c': 3, 'd': 4, 'e': 5}\n"
     ]
    }
   ],
   "source": [
    "a={'a':1, 'b':2, 'c':3}\n",
    "b={'a':2, 'd':4, 'e':5}\n",
    "a.update(b)\n",
    "print(a)"
   ]
  },
  {
   "cell_type": "markdown",
   "id": "f815d749",
   "metadata": {},
   "source": [
    "- **딕셔너리 삭제법**\n",
    "  - del로 원하는 딕셔너리 삭제\n",
    "  - pop 함수 이용"
   ]
  },
  {
   "cell_type": "code",
   "execution_count": 35,
   "id": "59ced157",
   "metadata": {},
   "outputs": [
    {
     "name": "stdout",
     "output_type": "stream",
     "text": [
      "{'a': 1, 'b': 2, 'c': 3}\n",
      "{'a': 1, 'c': 3}\n",
      "{'c': 3}\n"
     ]
    }
   ],
   "source": [
    "a={'a':1, 'b':2, 'c':3}\n",
    "print(a)\n",
    "a.pop('b')\n",
    "print(a)\n",
    "del a['a']\n",
    "print(a)"
   ]
  },
  {
   "cell_type": "markdown",
   "id": "163129a2",
   "metadata": {},
   "source": [
    "- **clear()**\n",
    "  - 딕셔너리의 모든 값을 초기화"
   ]
  },
  {
   "cell_type": "code",
   "execution_count": 36,
   "id": "174d4804",
   "metadata": {},
   "outputs": [
    {
     "name": "stdout",
     "output_type": "stream",
     "text": [
      "{'a': 1, 'b': 2, 'c': 3}\n",
      "{}\n"
     ]
    }
   ],
   "source": [
    "a={'a':1, 'b':2, 'c':3}\n",
    "print(a)\n",
    "a.clear()\n",
    "print(a)"
   ]
  },
  {
   "cell_type": "markdown",
   "id": "49899d8c",
   "metadata": {},
   "source": [
    "- **in**\n",
    "  - key값 존재 확인\n",
    "  - 딕셔너리의 크기와 관계없이 항상 O(1)연산\n",
    "  - 리스트에서는 성능 저하 초래"
   ]
  },
  {
   "cell_type": "code",
   "execution_count": 37,
   "id": "12c79043",
   "metadata": {},
   "outputs": [
    {
     "name": "stdout",
     "output_type": "stream",
     "text": [
      "True\n",
      "True\n"
     ]
    }
   ],
   "source": [
    "a={'a':1, 'b':2, 'c':3}\n",
    "b=[1,2,3,4,5,6,7,8,100]\n",
    "print('b' in a)\n",
    "print(100 in b)"
   ]
  },
  {
   "cell_type": "markdown",
   "id": "e929f65a",
   "metadata": {},
   "source": [
    "- **value access**\n",
    "  - dict[key]로 접근. 키가 없는 경우 에러 발생\n",
    "  - .get() 함수로 접근. 키가 없는 경우 None 반환"
   ]
  },
  {
   "cell_type": "code",
   "execution_count": 39,
   "id": "12d5290b",
   "metadata": {},
   "outputs": [
    {
     "name": "stdout",
     "output_type": "stream",
     "text": [
      "1\n",
      "None\n"
     ]
    }
   ],
   "source": [
    "print(a['a'])\n",
    "print(a.get('d'))"
   ]
  },
  {
   "cell_type": "markdown",
   "id": "b014b6e5",
   "metadata": {},
   "source": [
    "- **모든 keys, values의 접근**\n",
    "  - keys() : 모든 키만 반환\n",
    "  - values() : 모든 값만 반환\n",
    "  - items() : 키, 값의 튜플을 반환\n",
    "  - list()를 이용하여 리스트화가 가능"
   ]
  },
  {
   "cell_type": "code",
   "execution_count": 43,
   "id": "bf934173",
   "metadata": {},
   "outputs": [
    {
     "name": "stdout",
     "output_type": "stream",
     "text": [
      "dict_keys(['a', 'b', 'c'])\n",
      "dict_values([1, 2, 3])\n",
      "['a', 'b', 'c']\n",
      "[1, 2, 3]\n"
     ]
    }
   ],
   "source": [
    "a={'a':1, 'b':2, 'c':3}\n",
    "print(a.keys())\n",
    "print(a.values())\n",
    "print(list(a.keys()))\n",
    "print(list(a.values()))"
   ]
  },
  {
   "cell_type": "markdown",
   "id": "a35120f4",
   "metadata": {},
   "source": [
    "- **set**\n",
    "  - dictionary에서 key만 활용하는 데이터 구조로 이해\n",
    "  - 수학에서의 **집합과 동일한 개념**\n",
    "  - 인덱스가 없다->순서가 존재하지 않는다.\n",
    "  - 비어있는 set을 만들고 싶으면 a=set()으로"
   ]
  },
  {
   "cell_type": "code",
   "execution_count": 44,
   "id": "bee4bbd3",
   "metadata": {},
   "outputs": [
    {
     "name": "stdout",
     "output_type": "stream",
     "text": [
      "{1, 2, 3, 4, 5}\n"
     ]
    }
   ],
   "source": [
    "a={1,1,2,2,3,3,4,1,2,4,5}\n",
    "print(a)"
   ]
  },
  {
   "cell_type": "code",
   "execution_count": 45,
   "id": "21d2be7f",
   "metadata": {},
   "outputs": [
    {
     "name": "stdout",
     "output_type": "stream",
     "text": [
      "[1, 1, 2, 3, 3, 4, 5, 1, 2, 5]\n",
      "{1, 2, 3, 4, 5}\n"
     ]
    }
   ],
   "source": [
    "a=[1,1,2,3,3,4,5,1,2,5]\n",
    "print(a)\n",
    "b=set(a)\n",
    "print(b)"
   ]
  },
  {
   "cell_type": "markdown",
   "id": "212a1952",
   "metadata": {},
   "source": [
    "- **set operations**\n",
    "  - 수학 연산과 동일\n",
    "  - 교집합, 합집합, 차집합 등 지원"
   ]
  },
  {
   "cell_type": "code",
   "execution_count": 50,
   "id": "42a3817e",
   "metadata": {},
   "outputs": [
    {
     "name": "stdout",
     "output_type": "stream",
     "text": [
      "{1, 2, 3, 4, 5}\n",
      "{2, 3, 4}\n",
      "{1, 5}\n",
      "False\n"
     ]
    }
   ],
   "source": [
    "a={1,1,2,2,3,3,4,1,2,4,5}\n",
    "b={2,3,4}\n",
    "\n",
    "print(a.union(b)) #합집합\n",
    "print(a.intersection(b)) #교집합\n",
    "print(a.difference(b)) #차집합\n",
    "print(a.issubset(b)) #부분 집합"
   ]
  },
  {
   "cell_type": "code",
   "execution_count": null,
   "id": "6323c60d",
   "metadata": {},
   "outputs": [],
   "source": []
  }
 ],
 "metadata": {
  "kernelspec": {
   "display_name": "Python 3",
   "language": "python",
   "name": "python3"
  },
  "language_info": {
   "codemirror_mode": {
    "name": "ipython",
    "version": 3
   },
   "file_extension": ".py",
   "mimetype": "text/x-python",
   "name": "python",
   "nbconvert_exporter": "python",
   "pygments_lexer": "ipython3",
   "version": "3.8.8"
  }
 },
 "nbformat": 4,
 "nbformat_minor": 5
}
