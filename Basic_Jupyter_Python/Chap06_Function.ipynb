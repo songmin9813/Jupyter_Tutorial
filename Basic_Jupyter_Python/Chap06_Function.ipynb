{
 "cells": [
  {
   "cell_type": "markdown",
   "id": "55e7d270",
   "metadata": {},
   "source": [
    "- **함수의 사용(호출)**\n",
    "  - 함수명(파라미터1, 파라미터2,...)\n",
    "  - 함수가 호출되면 실행의 흐름이 호출자에서 함수로 변경됨"
   ]
  },
  {
   "cell_type": "code",
   "execution_count": 1,
   "id": "54a43ad7",
   "metadata": {},
   "outputs": [],
   "source": [
    "def add(x, y):\n",
    "    n=x+y\n",
    "    return n"
   ]
  },
  {
   "cell_type": "code",
   "execution_count": 2,
   "id": "79f344b5",
   "metadata": {},
   "outputs": [
    {
     "name": "stdout",
     "output_type": "stream",
     "text": [
      "303\n"
     ]
    }
   ],
   "source": [
    "print(add(3,300))"
   ]
  },
  {
   "cell_type": "markdown",
   "id": "5f323ee4",
   "metadata": {},
   "source": [
    "- **parameter(argument)(인자)**\n",
    "  - 함수에 전달되는 입력(input)\n",
    "  - 파라미터로 어떤 파이썬 객체도 사용 가능(함수 자체도 인자로 전달 가능)"
   ]
  },
  {
   "cell_type": "code",
   "execution_count": 3,
   "id": "2174f581",
   "metadata": {},
   "outputs": [
    {
     "name": "stdout",
     "output_type": "stream",
     "text": [
      "haha\n",
      "good\n"
     ]
    },
    {
     "data": {
      "text/plain": [
       "100"
      ]
     },
     "execution_count": 3,
     "metadata": {},
     "output_type": "execute_result"
    }
   ],
   "source": [
    "def test():\n",
    "    print('haha')\n",
    "    print('good')\n",
    "    return 100\n",
    "test()"
   ]
  },
  {
   "cell_type": "markdown",
   "id": "b42f4af9",
   "metadata": {},
   "source": [
    "- **기본 파라미터**\n",
    "  - 디폴트 파라미터 뒤에 일반 파라미터가 위치할 수 없음\n",
    "  - 명시하지 않을 시 디폴트 값이 존재함"
   ]
  },
  {
   "cell_type": "code",
   "execution_count": 5,
   "id": "985bb37a",
   "metadata": {},
   "outputs": [
    {
     "name": "stdout",
     "output_type": "stream",
     "text": [
      "1!2!3hi1 2 3\n"
     ]
    }
   ],
   "source": [
    "print(1,2,3,sep='!',end='hi')\n",
    "print(1,2,3)"
   ]
  },
  {
   "cell_type": "markdown",
   "id": "b4cad189",
   "metadata": {},
   "source": [
    "- **기본 파라미터의 정의**\n",
    "  - 함수 정의구에 값을 미리 명시하여 정의함"
   ]
  },
  {
   "cell_type": "code",
   "execution_count": 10,
   "id": "70099eac",
   "metadata": {},
   "outputs": [
    {
     "name": "stdout",
     "output_type": "stream",
     "text": [
      "6\n",
      "8\n"
     ]
    }
   ],
   "source": [
    "def test2(x,y,z=3):#기본 파라미터는 항상 맨 마지막에\n",
    "    return x+y+z\n",
    "print(test2(1,2))\n",
    "print(test2(1,2,5))"
   ]
  },
  {
   "cell_type": "markdown",
   "id": "2f6228e6",
   "metadata": {},
   "source": [
    "- **keyword parameter(키워드 파라미터)**\n",
    "  - 파라미터에 값을 전달할 때 파라미터의 이름을 명시하여 사용이 가능하다."
   ]
  },
  {
   "cell_type": "code",
   "execution_count": 13,
   "id": "1efacf57",
   "metadata": {},
   "outputs": [
    {
     "name": "stdout",
     "output_type": "stream",
     "text": [
      "5\n",
      "8\n"
     ]
    }
   ],
   "source": [
    "def test3(x,y,z=3):#기본 파라미터는 항상 맨 마지막에\n",
    "    return x*y+z\n",
    "print(test3(x=1,y=2))\n",
    "print(test2(x=1,y=2,z=5))"
   ]
  },
  {
   "cell_type": "markdown",
   "id": "848eb374",
   "metadata": {},
   "source": [
    "- **multiple return(복수 반환)**\n",
    "  - tuple 반환을 하여 복수 값 리턴 가능"
   ]
  },
  {
   "cell_type": "code",
   "execution_count": 15,
   "id": "8dc934dd",
   "metadata": {},
   "outputs": [
    {
     "name": "stdout",
     "output_type": "stream",
     "text": [
      "<class 'int'>\n",
      "<class 'tuple'>\n"
     ]
    }
   ],
   "source": [
    "def add_mul(x,y):\n",
    "    return x+y, x*y\n",
    "\n",
    "a,b=add_mul(1,2)#이렇게 받으면 정수\n",
    "c=add_mul(1,2)#이러면 튜플임\n",
    "print(type(a))\n",
    "print(type(c))"
   ]
  },
  {
   "cell_type": "markdown",
   "id": "5d70ac2c",
   "metadata": {},
   "source": [
    "- **variable length argument(가변 길이 인자)**\n",
    "  - 전달되는 파라미터의 개수가 고정적이지 않은 경우 사용\n",
    "  \n",
    "  \n",
    "> \\*args : 파라미터를 튜플의 형태로 전달\n",
    "\n",
    "\n",
    "> \\**kwargs : 파라미터를 딕셔너리 형태로 전달"
   ]
  },
  {
   "cell_type": "code",
   "execution_count": 19,
   "id": "ec6d92d7",
   "metadata": {},
   "outputs": [
    {
     "name": "stdout",
     "output_type": "stream",
     "text": [
      "10\n",
      "20\n",
      "30\n"
     ]
    }
   ],
   "source": [
    "def hello(*args):#이건 튜플이 된다\n",
    "    for index in args:\n",
    "        print(index)\n",
    "hello(10,20,30)"
   ]
  },
  {
   "cell_type": "markdown",
   "id": "b6b5510b",
   "metadata": {},
   "source": [
    "- **keyword parameter(키워드 파라미터)**\n",
    "  - \\*\\*가 붙은 경우에는 키워드 파라미터로 인식 \n",
    "  - 즉 함수 호출 시, 파라미터의 이름과 값을 함께 전달 가능"
   ]
  },
  {
   "cell_type": "code",
   "execution_count": 22,
   "id": "aa245c65",
   "metadata": {},
   "outputs": [
    {
     "name": "stdout",
     "output_type": "stream",
     "text": [
      "key: a , value: 1\n",
      "key: b , value: 3\n"
     ]
    }
   ],
   "source": [
    "def hello2(**x):\n",
    "    for key, value in x.items():\n",
    "        print('key:',key, ', value:',value)\n",
    "hello2(a=1, b=3)"
   ]
  },
  {
   "cell_type": "markdown",
   "id": "d5e2a9d6",
   "metadata": {},
   "source": [
    "- **가변길이 함수의 대표적인 예로 format()이 있음**"
   ]
  },
  {
   "cell_type": "code",
   "execution_count": 28,
   "id": "aef3014a",
   "metadata": {},
   "outputs": [
    {
     "name": "stdout",
     "output_type": "stream",
     "text": [
      "오늘 온도: 40도, 강수확률은: 20%\n",
      "안녕하세요\n"
     ]
    }
   ],
   "source": [
    "a='오늘 온도: {today_temp}도, 강수확률은: {today_prob}%'.format(today_prob=20,today_temp=40)\n",
    "print(a)\n",
    "b='{}녕하세요'.format('안')\n",
    "print(b)"
   ]
  },
  {
   "cell_type": "markdown",
   "id": "0f64b875",
   "metadata": {},
   "source": [
    "- **lambda 함수**\n",
    "  - 단일문으로 표현되는 익명함수\n",
    "  - 익명함수란 이름이 없는 구현체만 존재하는 간단한 함수\n",
    "  - 코드 상에서 한 번만 사용되는 기능이 있을 때, 굳이 함수로 만들지 않고 1회성으로 만들어서 쓸 때 사용"
   ]
  },
  {
   "cell_type": "code",
   "execution_count": 31,
   "id": "26638d3b",
   "metadata": {},
   "outputs": [],
   "source": [
    "def square(x):\n",
    "    return x**2"
   ]
  },
  {
   "cell_type": "code",
   "execution_count": 32,
   "id": "6491ce12",
   "metadata": {},
   "outputs": [
    {
     "data": {
      "text/plain": [
       "function"
      ]
     },
     "execution_count": 32,
     "metadata": {},
     "output_type": "execute_result"
    }
   ],
   "source": [
    "hi=lambda a:a**2\n",
    "type(hi)"
   ]
  },
  {
   "cell_type": "code",
   "execution_count": 33,
   "id": "6fbb85b6",
   "metadata": {},
   "outputs": [
    {
     "data": {
      "text/plain": [
       "30"
      ]
     },
     "execution_count": 33,
     "metadata": {},
     "output_type": "execute_result"
    }
   ],
   "source": [
    "def add(x,y):\n",
    "    return x+y\n",
    "add2=lambda x,y:x+y #위의 함수와 같은 의미이다.\n",
    "add2(10,20)"
   ]
  },
  {
   "cell_type": "code",
   "execution_count": 42,
   "id": "03cfdf6c",
   "metadata": {},
   "outputs": [
    {
     "name": "stdout",
     "output_type": "stream",
     "text": [
      "['alexander', 'bob', 'charles']\n",
      "['bob', 'charles', 'alexander']\n",
      "['bob', 'charles', 'alexander']\n"
     ]
    }
   ],
   "source": [
    "def str_len(s):\n",
    "    return len(s)\n",
    "\n",
    "strings=['bob', 'charles','alexander']\n",
    "strings.sort()\n",
    "print(strings)\n",
    "\n",
    "strings.sort(key=str_len)#같은 의미\n",
    "print(strings)\n",
    "\n",
    "strings.sort(key=lambda s:len(s))#한 줄로 심플하게 정의가 가능\n",
    "print(strings)"
   ]
  },
  {
   "cell_type": "markdown",
   "id": "ebd1ab1a",
   "metadata": {},
   "source": [
    "- **lambda가 유용하게 사용되는 3가지 대표 함수 filter, map, reduce**\n",
    "  - filter : 특정 조건을 만족하는 요소만 남기고 필터링\n",
    "  - map : 각 원소를 주어진 수식에 따라 변형하여 새로운 리스트 반환(크기는 변하지 않음)\n",
    "  - reduce : 차례대로 앞 2개의 원소를 가지고 연산. 연산 결과가 다음 연산의 입력으로 진행됨(크기가 1로 고정됨)"
   ]
  },
  {
   "cell_type": "code",
   "execution_count": 46,
   "id": "6eca4342",
   "metadata": {},
   "outputs": [
    {
     "name": "stdout",
     "output_type": "stream",
     "text": [
      "[2, 6, 8]\n"
     ]
    }
   ],
   "source": [
    "nums=[1,2,3,6,8,9]\n",
    "print(list(filter(lambda x:x%2==0,nums)))#ftilter를 사용하는 경우"
   ]
  },
  {
   "cell_type": "code",
   "execution_count": 47,
   "id": "540715b1",
   "metadata": {},
   "outputs": [
    {
     "name": "stdout",
     "output_type": "stream",
     "text": [
      "[1, 4, 9, 36, 64, 81]\n"
     ]
    }
   ],
   "source": [
    "nums=[1,2,3,6,8,9]\n",
    "nums2=list(map(lambda x:x**2,nums)) #리스트를 제곱(변형) 하여 새로운 리스트를 생성\n",
    "print(nums2)"
   ]
  },
  {
   "cell_type": "code",
   "execution_count": 49,
   "id": "03d06a96",
   "metadata": {},
   "outputs": [
    {
     "data": {
      "text/plain": [
       "17"
      ]
     },
     "execution_count": 49,
     "metadata": {},
     "output_type": "execute_result"
    }
   ],
   "source": [
    "import functools\n",
    "a=[1,3,5,8] #리스트 내의 모든 숫자의 합을 구하기\n",
    "functools.reduce(lambda x,y:x+y,a)"
   ]
  },
  {
   "cell_type": "code",
   "execution_count": null,
   "id": "3b3bc900",
   "metadata": {},
   "outputs": [],
   "source": []
  }
 ],
 "metadata": {
  "kernelspec": {
   "display_name": "Python 3",
   "language": "python",
   "name": "python3"
  },
  "language_info": {
   "codemirror_mode": {
    "name": "ipython",
    "version": 3
   },
   "file_extension": ".py",
   "mimetype": "text/x-python",
   "name": "python",
   "nbconvert_exporter": "python",
   "pygments_lexer": "ipython3",
   "version": "3.8.8"
  }
 },
 "nbformat": 4,
 "nbformat_minor": 5
}
