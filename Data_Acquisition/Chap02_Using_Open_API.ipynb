{
 "cells": [
  {
   "cell_type": "markdown",
   "id": "d1da9484",
   "metadata": {},
   "source": [
    "### 공공 데이터 정보\n",
    "1. 공공데이터 포털 회원가입 및 로그인(https://www.data.go.kr/)\n",
    "2. API 사용 요청/키 발급\n",
    "3. API 문서(specification) 확인 - 등록해놓은 매뉴얼을 보면서 참고하도록 하자\n",
    "4. API 테스트 및 개발"
   ]
  },
  {
   "cell_type": "code",
   "execution_count": 4,
   "id": "cfa92f2e",
   "metadata": {},
   "outputs": [],
   "source": [
    "import requests"
   ]
  },
  {
   "cell_type": "markdown",
   "id": "36ac12b0",
   "metadata": {},
   "source": [
    "### Endpoint 확인하기\n",
    "- API가 서비스되는 서버의 IP 혹은 domain 주소\n",
    "- 매뉴얼을 통해 얻어낸 Endpoint를 입력하여(인증키 포함)얻어낸 url로 접속하여 열람"
   ]
  },
  {
   "cell_type": "code",
   "execution_count": 6,
   "id": "8783c921",
   "metadata": {},
   "outputs": [
    {
     "name": "stdout",
     "output_type": "stream",
     "text": [
      "http://api.visitkorea.or.kr/openapi/service/rest/EngService/areaCode?serviceKey=LtnHMv0xzkWvmnGl%2FRL6KClaKtT8scEa1T2Mrl0nopr1hZnNaieTX8WY8jTumW6mT8eD6rJXHVelgnsgYhKvww%3D%3D&numOfRows=10&pageSize=10&pageNo=1&MobileOS=ETC&MobileApp=AppTest&_type=json\n"
     ]
    }
   ],
   "source": [
    "endpoint='http://api.visitkorea.or.kr/openapi/service/rest/EngService/areaCode?serviceKey={}&numOfRows=10&pageSize=10&pageNo={}&MobileOS=ETC&MobileApp=AppTest&_type=json'.format(serviceKey,1)\n",
    "# 매뉴얼을 통해\n",
    "print(endpoint)"
   ]
  },
  {
   "cell_type": "markdown",
   "id": "a7750a38",
   "metadata": {},
   "source": [
    "### key값 확인하기\n",
    "- 서비스 호출 트래킹할 목적이나 악의적인 사용을 금지할 목적으로 주로 사용\n",
    "- 새로 발급받은 키는 1시간 이후 사용 가능\n",
    "- 일일 트래픽 1000 : 우리는 발급된 키로 하루에 1000번까지 이 항목을 조회할 수 있다는 뜻\n",
    "- 오류가 난다면 1시간 쯤 뒤에 다시 실행해보는 것을 추천"
   ]
  },
  {
   "cell_type": "code",
   "execution_count": 1,
   "id": "0baddc96",
   "metadata": {},
   "outputs": [],
   "source": [
    "serviceKey='LtnHMv0xzkWvmnGl%2FRL6KClaKtT8scEa1T2Mrl0nopr1hZnNaieTX8WY8jTumW6mT8eD6rJXHVelgnsgYhKvww%3D%3D'"
   ]
  },
  {
   "cell_type": "markdown",
   "id": "582ef288",
   "metadata": {},
   "source": [
    "### Parameter 확인하기\n",
    "- API 호출에 필요한 parameter 값 확인 및 구성"
   ]
  },
  {
   "cell_type": "code",
   "execution_count": 10,
   "id": "0b934df9",
   "metadata": {},
   "outputs": [
    {
     "name": "stdout",
     "output_type": "stream",
     "text": [
      "200\n",
      "{\"response\":{\"header\":{\"resultCode\":\"0000\",\"resultMsg\":\"OK\"},\"body\":{\"items\":{\"item\":[{\"code\":1,\"name\":\"Seoul\",\"rnum\":1},{\"code\":2,\"name\":\"Incheon\",\"rnum\":2},{\"code\":3,\"name\":\"Daejeon\",\"rnum\":3},{\"code\":4,\"name\":\"Daegu\",\"rnum\":4},{\"code\":5,\"name\":\"Gwangju\",\"rnum\":5},{\"code\":6,\"name\":\"Busan\",\"rnum\":6},{\"code\":7,\"name\":\"Ulsan\",\"rnum\":7},{\"code\":8,\"name\":\"Sejong\",\"rnum\":8},{\"code\":31,\"name\":\"Gyeonggi-do\",\"rnum\":9},{\"code\":32,\"name\":\"Gangwon-do\",\"rnum\":10}]},\"numOfRows\":10,\"pageNo\":1,\"totalCount\":17}}}\n",
      "<class 'dict'>\n",
      "{'code': 1, 'name': 'Seoul', 'rnum': 1}\n"
     ]
    }
   ],
   "source": [
    "endpoint='http://api.visitkorea.or.kr/openapi/service/rest/EngService/areaCode?serviceKey={}&numOfRows=10&pageSize=10&pageNo={}&MobileOS=ETC&MobileApp=AppTest&_type=json'.format(serviceKey,1)\n",
    "# 매뉴얼을 통해\n",
    "resp = requests.get(endpoint)\n",
    "print(resp.status_code)\n",
    "print(resp.text)\n",
    "\n",
    "print(type(resp.json())) #Json은 파이썬의 dict와 구조가 같이 때문에 사용하기 용이\n",
    "data=resp.json()\n",
    "print(data['response']['body']['items']['item'][0])"
   ]
  },
  {
   "cell_type": "markdown",
   "id": "44ab8085",
   "metadata": {},
   "source": [
    "### 요청 및 Response 확인\n",
    "- requests 모듈을 활용하여 API 호출\n",
    "- response 확인하여 원하는 정보 추출\n",
    "- json 데이터의 경우, python dictionary로 변경하여 사용가능"
   ]
  }
 ],
 "metadata": {
  "kernelspec": {
   "display_name": "Python 3",
   "language": "python",
   "name": "python3"
  },
  "language_info": {
   "codemirror_mode": {
    "name": "ipython",
    "version": 3
   },
   "file_extension": ".py",
   "mimetype": "text/x-python",
   "name": "python",
   "nbconvert_exporter": "python",
   "pygments_lexer": "ipython3",
   "version": "3.8.8"
  }
 },
 "nbformat": 4,
 "nbformat_minor": 5
}
