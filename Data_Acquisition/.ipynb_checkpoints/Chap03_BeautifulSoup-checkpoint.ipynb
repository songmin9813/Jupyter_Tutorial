{
 "cells": [
  {
   "cell_type": "code",
   "execution_count": 1,
   "id": "acc4701b",
   "metadata": {},
   "outputs": [],
   "source": [
    "from bs4 import BeautifulSoup"
   ]
  },
  {
   "cell_type": "markdown",
   "id": "8dada840",
   "metadata": {},
   "source": [
    "### html 문자열 파싱\n",
    "- 문자열로 정의된 html 데이터 파싱하기\n",
    "- 파싱 : 문자열 중에서 원하는 값을 추출한다는 뜻"
   ]
  },
  {
   "cell_type": "code",
   "execution_count": 3,
   "id": "02e110bb",
   "metadata": {},
   "outputs": [],
   "source": [
    "#예제 html\n",
    "html='''\n",
    "<html>\n",
    "<head>\n",
    "<title>BeautifulSoup test</title>\n",
    "</head>\n",
    "<body>\n",
    "<div id='upper' class='test' custom='good'>\n",
    "<h3 title='Good Content Title'>Contents Title</h3>\n",
    "<p>Test contents</p>\n",
    "</div>\n",
    "<div id='lower' class='test' custom='nice'>\n",
    "<p>Test Test Test 1</p>\n",
    "<p>Test Test Test 2</p>\n",
    "<p>Test Test Test 3</p>\n",
    "</div>\n",
    "</body>\n",
    "</html>'''"
   ]
  },
  {
   "cell_type": "markdown",
   "id": "8d117959",
   "metadata": {},
   "source": [
    "### find 함수\n",
    "- 특정 html tag를 검색\n",
    "- 검색 조건을 명시하여 찾고자 하는 tag를 검색\n",
    "- 최초로 만족되는 결과값만을 출력\n",
    "- 다중 출력될 여지가 있는 결과값에 대해 **세부적인 조건을 두어 결과 출력**\n",
    "- 속성값에 대해 **추가적인 딕셔너리를 만들어 인자로 주는 것이 일반적**"
   ]
  },
  {
   "cell_type": "code",
   "execution_count": 5,
   "id": "c2974289",
   "metadata": {},
   "outputs": [
    {
     "data": {
      "text/plain": [
       "<h3 title=\"Good Content Title\">Contents Title</h3>"
      ]
     },
     "execution_count": 5,
     "metadata": {},
     "output_type": "execute_result"
    }
   ],
   "source": [
    "soup=BeautifulSoup(html)\n",
    "soup.find('h3')"
   ]
  },
  {
   "cell_type": "code",
   "execution_count": 6,
   "id": "b1b674d2",
   "metadata": {},
   "outputs": [
    {
     "data": {
      "text/plain": [
       "<p>Test contents</p>"
      ]
     },
     "execution_count": 6,
     "metadata": {},
     "output_type": "execute_result"
    }
   ],
   "source": [
    "soup.find('p')"
   ]
  },
  {
   "cell_type": "code",
   "execution_count": 8,
   "id": "33eb0f60",
   "metadata": {},
   "outputs": [
    {
     "data": {
      "text/plain": [
       "<div class=\"test\" custom=\"nice\" id=\"lower\">\n",
       "<p>Test Test Test 1</p>\n",
       "<p>Test Test Test 2</p>\n",
       "<p>Test Test Test 3</p>\n",
       "</div>"
      ]
     },
     "execution_count": 8,
     "metadata": {},
     "output_type": "execute_result"
    }
   ],
   "source": [
    "soup.find('div', custom='nice')#세부 조건을 명시하여 검색 가능"
   ]
  },
  {
   "cell_type": "code",
   "execution_count": 9,
   "id": "3a14fcfb",
   "metadata": {},
   "outputs": [
    {
     "data": {
      "text/plain": [
       "<div class=\"test\" custom=\"good\" id=\"upper\">\n",
       "<h3 title=\"Good Content Title\">Contents Title</h3>\n",
       "<p>Test contents</p>\n",
       "</div>"
      ]
     },
     "execution_count": 9,
     "metadata": {},
     "output_type": "execute_result"
    }
   ],
   "source": [
    "soup.find('div',class_='test')#클래스를 이용한 검색 시 뒤에 언더바"
   ]
  },
  {
   "cell_type": "code",
   "execution_count": 11,
   "id": "cc52f12f",
   "metadata": {},
   "outputs": [
    {
     "data": {
      "text/plain": [
       "<div class=\"test\" custom=\"nice\" id=\"lower\">\n",
       "<p>Test Test Test 1</p>\n",
       "<p>Test Test Test 2</p>\n",
       "<p>Test Test Test 3</p>\n",
       "</div>"
      ]
     },
     "execution_count": 11,
     "metadata": {},
     "output_type": "execute_result"
    }
   ],
   "source": [
    "attrs={'id':'lower','class':'test'} #딕셔너리 형태로 속성을 만드는 것이 일반적\n",
    "soup.find('div',attrs=attrs)"
   ]
  },
  {
   "cell_type": "markdown",
   "id": "de3bcfed",
   "metadata": {},
   "source": [
    "### find_all 함수\n",
    "- 조건에 맞는 모든 tag를 리스트 형태로 변환"
   ]
  },
  {
   "cell_type": "code",
   "execution_count": 12,
   "id": "6ebb7815",
   "metadata": {},
   "outputs": [
    {
     "data": {
      "text/plain": [
       "[<div class=\"test\" custom=\"good\" id=\"upper\">\n",
       " <h3 title=\"Good Content Title\">Contents Title</h3>\n",
       " <p>Test contents</p>\n",
       " </div>,\n",
       " <div class=\"test\" custom=\"nice\" id=\"lower\">\n",
       " <p>Test Test Test 1</p>\n",
       " <p>Test Test Test 2</p>\n",
       " <p>Test Test Test 3</p>\n",
       " </div>]"
      ]
     },
     "execution_count": 12,
     "metadata": {},
     "output_type": "execute_result"
    }
   ],
   "source": [
    "soup.find_all('div')"
   ]
  },
  {
   "cell_type": "markdown",
   "id": "dfb4e4a1",
   "metadata": {},
   "source": [
    "### get_text 함수\n",
    "- 첫번째로 나온 태그 안의 value를 추출\n",
    "- 부모 tag의 경우, 모든 자식 tag의 value를 추출\n",
    "- strip를 이용하여 앞 뒤의 불필요한 내용을 제거할 수 있다."
   ]
  },
  {
   "cell_type": "code",
   "execution_count": 13,
   "id": "90b987ec",
   "metadata": {},
   "outputs": [
    {
     "name": "stdout",
     "output_type": "stream",
     "text": [
      "<h3 title=\"Good Content Title\">Contents Title</h3>\n"
     ]
    },
    {
     "data": {
      "text/plain": [
       "'Contents Title'"
      ]
     },
     "execution_count": 13,
     "metadata": {},
     "output_type": "execute_result"
    }
   ],
   "source": [
    "tag=soup.find('h3')\n",
    "print(tag)\n",
    "tag.get_text()"
   ]
  },
  {
   "cell_type": "code",
   "execution_count": 14,
   "id": "ce2fd752",
   "metadata": {},
   "outputs": [
    {
     "name": "stdout",
     "output_type": "stream",
     "text": [
      "<p>Test contents</p>\n"
     ]
    },
    {
     "data": {
      "text/plain": [
       "'Test contents'"
      ]
     },
     "execution_count": 14,
     "metadata": {},
     "output_type": "execute_result"
    }
   ],
   "source": [
    "tag=soup.find('p')\n",
    "print(tag)\n",
    "tag.get_text()"
   ]
  },
  {
   "cell_type": "code",
   "execution_count": 15,
   "id": "8bce4518",
   "metadata": {},
   "outputs": [
    {
     "name": "stdout",
     "output_type": "stream",
     "text": [
      "<div class=\"test\" custom=\"good\" id=\"upper\">\n",
      "<h3 title=\"Good Content Title\">Contents Title</h3>\n",
      "<p>Test contents</p>\n",
      "</div>\n"
     ]
    },
    {
     "data": {
      "text/plain": [
       "'Contents Title\\nTest contents'"
      ]
     },
     "execution_count": 15,
     "metadata": {},
     "output_type": "execute_result"
    }
   ],
   "source": [
    "tag=soup.find('div',id='upper')\n",
    "print(tag)\n",
    "tag.get_text().strip()#strip를 이용하여 앞뒤 불필요 내용을 제거"
   ]
  },
  {
   "cell_type": "markdown",
   "id": "68a2ac54",
   "metadata": {},
   "source": [
    "### attribute 값 추출하기\n",
    "- 검색한 tag에 attribute 이름을 [] 연산을 통해 추출 가능\n",
    "- ex) div.find('h3')['title']"
   ]
  },
  {
   "cell_type": "code",
   "execution_count": 19,
   "id": "11978e90",
   "metadata": {},
   "outputs": [
    {
     "name": "stdout",
     "output_type": "stream",
     "text": [
      "<h3 title=\"Good Content Title\">Contents Title</h3>\n"
     ]
    },
    {
     "data": {
      "text/plain": [
       "'Good Content Title'"
      ]
     },
     "execution_count": 19,
     "metadata": {},
     "output_type": "execute_result"
    }
   ],
   "source": [
    "tag=soup.find('h3')\n",
    "print(tag)\n",
    "tag['title'] #다음과 같은 형태로 속성 추출이 가능"
   ]
  },
  {
   "cell_type": "markdown",
   "id": "74b11c65",
   "metadata": {},
   "source": [
    "## tag를 찾는 여러가지 방법\n",
    "1. id, class 속성으로 tag 찾기\n",
    "2. CSS를 이용하여 tag 찾기\n",
    "3. 속성 값으로 tag 찾기\n",
    "4. 정규표현식으로 tag 찾기\n",
    "5. 개발자도구를 이용하여 동적으로 로딩되는 데이터 추출하기"
   ]
  },
  {
   "cell_type": "code",
   "execution_count": 41,
   "id": "b93e32b8",
   "metadata": {},
   "outputs": [
    {
     "name": "stdout",
     "output_type": "stream",
     "text": [
      "일론머스크 \"테슬라에서 넷플릭스·유튜브 즐길 날 온다\"\n",
      "이민우 2019. 07. 28. 16:58\n"
     ]
    }
   ],
   "source": [
    "# 속성으로 tag 찾기\n",
    "import requests\n",
    "url='https://news.v.daum.net/v/20190728165812603'\n",
    "html=requests.get(url).text\n",
    "titleattrs={\n",
    "    'class':'tit_view', 'data-translation':'true'\n",
    "}\n",
    "soup=BeautifulSoup(html)\n",
    "title=soup.find('h3',attrs=titleattrs)\n",
    "arthor=soup.find('span',attrs={'class':'txt_info'})\n",
    "date=soup.find('span',attrs={'class':'num_date'})\n",
    "print(title.get_text())\n",
    "print(arthor.get_text(),date.get_text())"
   ]
  },
  {
   "cell_type": "code",
   "execution_count": 38,
   "id": "39085644",
   "metadata": {},
   "outputs": [
    {
     "name": "stdout",
     "output_type": "stream",
     "text": [
      "이민우 입력 2019. 07. 28. 16:58\n"
     ]
    }
   ],
   "source": [
    "arthordate=soup.find_all('span',class_='txt_info') #findall을 이용한 리스트 방법\n",
    "print(arthordate[0].get_text(), arthordate[1].get_text()) #findall 이용"
   ]
  },
  {
   "cell_type": "code",
   "execution_count": 40,
   "id": "53372759",
   "metadata": {},
   "outputs": [
    {
     "name": "stdout",
     "output_type": "stream",
     "text": [
      "이민우 2019. 07. 28. 16:58\n"
     ]
    }
   ],
   "source": [
    "info=soup.find('span',class_='info_view')\n",
    "realarthor=info.find('span',class_='txt_info')#2중 참조를 해서도 가능\n",
    "realdate=info.find('span',class_='num_date')\n",
    "print(realinfo.get_text(),realdate.get_text())"
   ]
  },
  {
   "cell_type": "code",
   "execution_count": 50,
   "id": "1a413088",
   "metadata": {},
   "outputs": [
    {
     "name": "stdout",
     "output_type": "stream",
     "text": [
      "\n",
      "[아시아경제 이민우 기자] 일론 머스크 테슬라 최고경영자(CEO)가 자사 전기 자동차 모델에 넷플릭스와 유튜브 등 온라인동영상서비스(OTT)를 탑재할 것이라고 예고했다. 단순히 자율 주행 전기차가 단순히 주행을 위한 정보를 알려주는 것을 넘어 각종 영상 콘텐츠를 즐기는 공간으로도 확장하겠다는 전략으로 풀이된다.\n",
      "27일(현지시간) 더버지 등 주요 외신들에 따르면 머스크 CEO는 자신의 트위터를 통해 이 같은 계획을 밝혔다. 그는 \"자동차가 정차했을 때 넷플릭스와 유튜브를 감상할 수 있는 기능이 조만간 추가될 것\"이라며 \"편안한 좌석과 서라운드 사운드 오디오를 통해 영화관과 같은 느낌을 받을 수 있을 것\"이라고 강조했다.\n",
      "\n",
      "테슬라가 이처럼 콘텐츠 방면으로 확장하려 든 것은 이번이 처음이 아니다. 지난달 세계 최대 게임쇼 E3에서는 이미 운전자가 '폴아웃 쉘터'라는 게임을 할 수 있을 것이라고 발표한 바 있다. 이후에도 최근 게임업체 아타리사(社)의 자동차 경주 게임 ‘폴포지션’, 슈팅게임 ‘템페스트’, ‘미사일커맨드’ 등 고전 게임을 제공하기도 했다. 운전대로 게임을 조작하는 방식으로, 차가 주차돼 있을 경우에만 즐길 수 있다.\n",
      "이번 영상 콘텐츠는 주행 중에도 감상할 수 있도록 하는 방안을 고려하고 있다. 테슬라 측은 규제당국이 자율주행에 대해 완전히 승인하면 차량이 움직일 때에도 승객이 동영상을 즐길 수 있을 것이라고 설명했다.\n",
      "하지만 아직까지 자율주행차의 안전에 대한 우려는 완전히 걷혀지지 않은 상황이다. 지난 2017년 차량공유 서비스 우버의 자율주행 시범차량이 보행자와 충돌한 사고가 발생한 바 있다. 게다가 당시 시험 운전자는 디즈니의 동영상 스트리밍 서비스인 '훌루'를 이용하고 있던 것으로 밝혀졌다.\n",
      "이민우 기자 letzwin@asiae.co.kr\n",
      "<ⓒ경제를 보는 눈, 세계를 보는 창 아시아경제 무단전재 배포금지>\n"
     ]
    }
   ],
   "source": [
    "#본문 찾기 과제\n",
    "container=soup.find('div',id='harmonyContainer')\n",
    "content=container.find_all('p')\n",
    "for index in content:\n",
    "    print(index.get_text())"
   ]
  },
  {
   "cell_type": "markdown",
   "id": "45034389",
   "metadata": {},
   "source": [
    "### CSS를 이용하여 tag 찾기\n",
    "- select, select_one 함수 사용\n",
    "- css selector 사용법\n",
    "  - 태그명 찾기 tag\n",
    "  - 자손 태그 찾기 - 자손 관계(tag tag)\n",
    "  - 자식 태그 찾기 - 다이렉트 자식 관계(tag > tag)\n",
    "  - 아이디 찾기 #id\n",
    "  - 클래스 찾기 .class\n",
    "  - 속성값 찾기 \\[name='test'\\]\n",
    "    - 속성값 prefix 찾기 \\[name ^= 'test'\\]\n",
    "    - 속성값 suffix 찾기 \\[name $= 'test'\\]\n",
    "    - 속성값 substring 찾기 \\[name \\*= 'test' \\]\n",
    "  - n번째 자식 tag 찾기 : nth-child(n)\n",
    "    - 1로 시작함에 유의"
   ]
  },
  {
   "cell_type": "code",
   "execution_count": 51,
   "id": "32d71654",
   "metadata": {},
   "outputs": [
    {
     "data": {
      "text/plain": [
       "[<h3 class=\"tit_view\" data-translation=\"true\">일론머스크 \"테슬라에서 넷플릭스·유튜브 즐길 날 온다\"</h3>,\n",
       " <h3 class=\"tit_cp\">아시아경제 주요 뉴스</h3>,\n",
       " <h3 class=\"txt_newsview\">많이본 뉴스</h3>,\n",
       " <h3 class=\"txt_newsview\">포토&amp;TV</h3>,\n",
       " <h3 class=\"txt_newsview\">이 시각 추천뉴스</h3>]"
      ]
     },
     "execution_count": 51,
     "metadata": {},
     "output_type": "execute_result"
    }
   ],
   "source": [
    "soup.select('h3')"
   ]
  },
  {
   "cell_type": "code",
   "execution_count": 53,
   "id": "f176d949",
   "metadata": {},
   "outputs": [
    {
     "data": {
      "text/plain": [
       "[<p class=\"link_figure\"><img alt=\"일론 머스크 테슬라 최고경영자(CEO) [이미지출처=로이터연합뉴스]\" class=\"thumb_g_article\" data-org-src=\"https://t1.daumcdn.net/news/201907/28/akn/20190728165813230vjsq.jpg\" data-org-width=\"550\" dmcf-mid=\"NBMY3ZZhN4\" dmcf-mtype=\"image\" height=\"auto\" src=\"https://img2.daumcdn.net/thumb/R658x0.q70/?fname=https://t1.daumcdn.net/news/201907/28/akn/20190728165813230vjsq.jpg\" width=\"658\"/></p>,\n",
       " <p>[아시아경제 이민우 기자] 일론 머스크 테슬라 최고경영자(CEO)가 자사 전기 자동차 모델에 넷플릭스와 유튜브 등 온라인동영상서비스(OTT)를 탑재할 것이라고 예고했다. 단순히 자율 주행 전기차가 단순히 주행을 위한 정보를 알려주는 것을 넘어 각종 영상 콘텐츠를 즐기는 공간으로도 확장하겠다는 전략으로 풀이된다.</p>,\n",
       " <p>27일(현지시간) 더버지 등 주요 외신들에 따르면 머스크 CEO는 자신의 트위터를 통해 이 같은 계획을 밝혔다. 그는 \"자동차가 정차했을 때 넷플릭스와 유튜브를 감상할 수 있는 기능이 조만간 추가될 것\"이라며 \"편안한 좌석과 서라운드 사운드 오디오를 통해 영화관과 같은 느낌을 받을 수 있을 것\"이라고 강조했다.</p>,\n",
       " <p class=\"link_figure\"><img alt=\"(출처=일론 머스크 트위터 계정 캡쳐)\" class=\"thumb_g_article\" data-org-src=\"https://t1.daumcdn.net/news/201907/28/akn/20190728165813670hwxf.png\" data-org-width=\"550\" dmcf-mid=\"NRhnb5SRpx\" dmcf-mtype=\"image\" height=\"auto\" src=\"https://img1.daumcdn.net/thumb/R658x0.q70/?fname=https://t1.daumcdn.net/news/201907/28/akn/20190728165813670hwxf.png\" width=\"658\"/></p>,\n",
       " <p>테슬라가 이처럼 콘텐츠 방면으로 확장하려 든 것은 이번이 처음이 아니다. 지난달 세계 최대 게임쇼 E3에서는 이미 운전자가 '폴아웃 쉘터'라는 게임을 할 수 있을 것이라고 발표한 바 있다. 이후에도 최근 게임업체 아타리사(社)의 자동차 경주 게임 ‘폴포지션’, 슈팅게임 ‘템페스트’, ‘미사일커맨드’ 등 고전 게임을 제공하기도 했다. 운전대로 게임을 조작하는 방식으로, 차가 주차돼 있을 경우에만 즐길 수 있다.</p>,\n",
       " <p>이번 영상 콘텐츠는 주행 중에도 감상할 수 있도록 하는 방안을 고려하고 있다. 테슬라 측은 규제당국이 자율주행에 대해 완전히 승인하면 차량이 움직일 때에도 승객이 동영상을 즐길 수 있을 것이라고 설명했다.</p>,\n",
       " <p>하지만 아직까지 자율주행차의 안전에 대한 우려는 완전히 걷혀지지 않은 상황이다. 지난 2017년 차량공유 서비스 우버의 자율주행 시범차량이 보행자와 충돌한 사고가 발생한 바 있다. 게다가 당시 시험 운전자는 디즈니의 동영상 스트리밍 서비스인 '훌루'를 이용하고 있던 것으로 밝혀졌다.</p>,\n",
       " <p dmcf-pid=\"NUOWg8Qxyd\" dmcf-ptype=\"general\">이민우 기자 letzwin@asiae.co.kr</p>,\n",
       " <p data-translation=\"true\">&lt;ⓒ경제를 보는 눈, 세계를 보는 창 아시아경제 무단전재 배포금지&gt;</p>]"
      ]
     },
     "execution_count": 53,
     "metadata": {},
     "output_type": "execute_result"
    }
   ],
   "source": [
    "# 우물정(#)을 이용한 id 검색\n",
    "print(soup.select('#harmonyContainer p')) # 우물정 태그가 붙은 건 id 검색을 의미\n",
    "# harmonyContainer라는 아이디를 가지면서 p 태그인 모든 것들을 나타냄"
   ]
  },
  {
   "cell_type": "code",
   "execution_count": 55,
   "id": "b3b5d4b2",
   "metadata": {},
   "outputs": [
    {
     "name": "stdout",
     "output_type": "stream",
     "text": [
      "[<p data-translation=\"true\">&lt;ⓒ경제를 보는 눈, 세계를 보는 창 아시아경제 무단전재 배포금지&gt;</p>]\n"
     ]
    }
   ],
   "source": [
    "print(soup.select('#harmonyContainer > p')) #다이렉트 자손 관계가 아니기 때문에 출력이 제대로 되지 않을 것"
   ]
  },
  {
   "cell_type": "code",
   "execution_count": 58,
   "id": "f83c7f0f",
   "metadata": {},
   "outputs": [
    {
     "data": {
      "text/plain": [
       "[<h3 class=\"tit_view\" data-translation=\"true\">일론머스크 \"테슬라에서 넷플릭스·유튜브 즐길 날 온다\"</h3>]"
      ]
     },
     "execution_count": 58,
     "metadata": {},
     "output_type": "execute_result"
    }
   ],
   "source": [
    "# .을 이용한 클래스 검색\n",
    "soup.select('.tit_view')"
   ]
  },
  {
   "cell_type": "code",
   "execution_count": 60,
   "id": "f123f78b",
   "metadata": {},
   "outputs": [
    {
     "data": {
      "text/plain": [
       "[<h3 class=\"tit_view\" data-translation=\"true\">일론머스크 \"테슬라에서 넷플릭스·유튜브 즐길 날 온다\"</h3>]"
      ]
     },
     "execution_count": 60,
     "metadata": {},
     "output_type": "execute_result"
    }
   ],
   "source": [
    "# 대괄호 []를 이용한 속성 검색\n",
    "soup.select('h3[class=\"tit_view\"]')"
   ]
  },
  {
   "cell_type": "code",
   "execution_count": 61,
   "id": "306b840c",
   "metadata": {},
   "outputs": [
    {
     "data": {
      "text/plain": [
       "[<h3 class=\"tit_view\" data-translation=\"true\">일론머스크 \"테슬라에서 넷플릭스·유튜브 즐길 날 온다\"</h3>,\n",
       " <h3 class=\"tit_cp\">아시아경제 주요 뉴스</h3>,\n",
       " <h3 class=\"txt_newsview\">많이본 뉴스</h3>,\n",
       " <h3 class=\"txt_newsview\">포토&amp;TV</h3>,\n",
       " <h3 class=\"txt_newsview\">이 시각 추천뉴스</h3>]"
      ]
     },
     "execution_count": 61,
     "metadata": {},
     "output_type": "execute_result"
    }
   ],
   "source": [
    "soup.select('h3[class^=\"t\"]') #앞에 t 이름을 포함한 클래스 이름 검색"
   ]
  },
  {
   "cell_type": "code",
   "execution_count": 64,
   "id": "728aa6a5",
   "metadata": {},
   "outputs": [
    {
     "data": {
      "text/plain": [
       "[<h3 class=\"tit_view\" data-translation=\"true\">일론머스크 \"테슬라에서 넷플릭스·유튜브 즐길 날 온다\"</h3>,\n",
       " <h3 class=\"txt_newsview\">많이본 뉴스</h3>,\n",
       " <h3 class=\"txt_newsview\">포토&amp;TV</h3>,\n",
       " <h3 class=\"txt_newsview\">이 시각 추천뉴스</h3>]"
      ]
     },
     "execution_count": 64,
     "metadata": {},
     "output_type": "execute_result"
    }
   ],
   "source": [
    "soup.select('h3[class$=\"w\"]') #뒤에 w 이름을 포함한 클래스 이름 검색"
   ]
  },
  {
   "cell_type": "code",
   "execution_count": 68,
   "id": "9e3c637a",
   "metadata": {},
   "outputs": [
    {
     "data": {
      "text/plain": [
       "[<h3 class=\"tit_view\" data-translation=\"true\">일론머스크 \"테슬라에서 넷플릭스·유튜브 즐길 날 온다\"</h3>,\n",
       " <h3 class=\"tit_cp\">아시아경제 주요 뉴스</h3>]"
      ]
     },
     "execution_count": 68,
     "metadata": {},
     "output_type": "execute_result"
    }
   ],
   "source": [
    "soup.select('h3[class*=\"ti\"]') # ti 문자열을 포함한 클래스 이름 검색"
   ]
  },
  {
   "cell_type": "code",
   "execution_count": 73,
   "id": "fa313871",
   "metadata": {},
   "outputs": [
    {
     "name": "stdout",
     "output_type": "stream",
     "text": [
      "[<span class=\"txt_info\">입력 <span class=\"num_date\">2019. 07. 28. 16:58</span></span>]\n",
      "<span class=\"txt_info\">입력 <span class=\"num_date\">2019. 07. 28. 16:58</span></span>\n"
     ]
    }
   ],
   "source": [
    "print(soup.select('span.txt_info:nth-child(2)')) #txt_info 클래스의 두 번째 자손을 찾기. 1로 시작\n",
    "print(soup.select('span.txt_info')[1]) #작동방식은 이런 느낌과 같을 것"
   ]
  },
  {
   "cell_type": "markdown",
   "id": "87a6fc69",
   "metadata": {},
   "source": [
    "- 정규표현식을 이용하여 tag 찾아보기\n",
    "- **키워드 내 텍스트로 다시 구분짓고 싶을 때 정규표현식을 사용해야 하는 듯 하다.**"
   ]
  },
  {
   "cell_type": "code",
   "execution_count": 76,
   "id": "b48d27ce",
   "metadata": {},
   "outputs": [
    {
     "data": {
      "text/plain": [
       "[<h2 class=\"screen_out\">검색</h2>,\n",
       " <h2 class=\"screen_out\">뉴스 메인메뉴</h2>,\n",
       " <h2 class=\"screen_out\" id=\"kakaoBody\">IT</h2>,\n",
       " <h3 class=\"tit_view\" data-translation=\"true\">일론머스크 \"테슬라에서 넷플릭스·유튜브 즐길 날 온다\"</h3>,\n",
       " <h3 class=\"tit_cp\">아시아경제 주요 뉴스</h3>,\n",
       " <h3 class=\"txt_newsview\">많이본 뉴스</h3>,\n",
       " <h3 class=\"txt_newsview\">포토&amp;TV</h3>,\n",
       " <h3 class=\"txt_newsview\">이 시각 추천뉴스</h3>,\n",
       " <h2 class=\"tit_direct\">바로가기</h2>,\n",
       " <h2 class=\"screen_out\">서비스 이용정보</h2>]"
      ]
     },
     "execution_count": 76,
     "metadata": {},
     "output_type": "execute_result"
    }
   ],
   "source": [
    "import re\n",
    "#h2와 h3를 동시에 찾고 싶다면 어떻게 해야할까?\n",
    "soup.find_all(re.compile('h[23]')) #beautifulsoup에 re를 사용하고 싶다면 compile이 필수인 듯 하다."
   ]
  },
  {
   "cell_type": "code",
   "execution_count": 85,
   "id": "3cf27333",
   "metadata": {},
   "outputs": [
    {
     "data": {
      "text/plain": [
       "[<img alt=\"Daum\" class=\"thumb_g\" height=\"19\" src=\"//t1.daumcdn.net/media/news/news2016/retina/logo_daum.jpg\" width=\"45\"/>,\n",
       " <img alt=\"일론 머스크 테슬라 최고경영자(CEO) [이미지출처=로이터연합뉴스]\" class=\"thumb_g_article\" data-org-src=\"https://t1.daumcdn.net/news/201907/28/akn/20190728165813230vjsq.jpg\" data-org-width=\"550\" dmcf-mid=\"NBMY3ZZhN4\" dmcf-mtype=\"image\" height=\"auto\" src=\"https://img2.daumcdn.net/thumb/R658x0.q70/?fname=https://t1.daumcdn.net/news/201907/28/akn/20190728165813230vjsq.jpg\" width=\"658\"/>]"
      ]
     },
     "execution_count": 85,
     "metadata": {},
     "output_type": "execute_result"
    }
   ],
   "source": [
    "#특정 확장자만 가져오려면 어떻게 해야할까?\n",
    "soup.find_all('img',src=re.compile('.+\\.jpg'))"
   ]
  },
  {
   "cell_type": "code",
   "execution_count": 88,
   "id": "ef9bb310",
   "metadata": {},
   "outputs": [
    {
     "data": {
      "text/plain": [
       "[<h3 class=\"tit_view\" data-translation=\"true\">일론머스크 \"테슬라에서 넷플릭스·유튜브 즐길 날 온다\"</h3>,\n",
       " <h3 class=\"tit_cp\">아시아경제 주요 뉴스</h3>]"
      ]
     },
     "execution_count": 88,
     "metadata": {},
     "output_type": "execute_result"
    }
   ],
   "source": [
    "soup.find_all('h3',class_=re.compile('tit.+')) #tit로 시작하는 모든 클래스 찾기"
   ]
  }
 ],
 "metadata": {
  "kernelspec": {
   "display_name": "Python 3",
   "language": "python",
   "name": "python3"
  },
  "language_info": {
   "codemirror_mode": {
    "name": "ipython",
    "version": 3
   },
   "file_extension": ".py",
   "mimetype": "text/x-python",
   "name": "python",
   "nbconvert_exporter": "python",
   "pygments_lexer": "ipython3",
   "version": "3.8.8"
  }
 },
 "nbformat": 4,
 "nbformat_minor": 5
}
