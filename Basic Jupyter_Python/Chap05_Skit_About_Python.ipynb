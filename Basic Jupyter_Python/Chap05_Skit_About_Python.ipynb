{
 "cells": [
  {
   "cell_type": "markdown",
   "id": "b3c8479c",
   "metadata": {},
   "source": [
    "- **if의 조건이 bool이 아닌 경우**\n",
    "  - 일반적으로 조건문에는 bool이 위치함\n",
    "  - 하지만, 정수, 실수, 문자열 리스트 등 기본 타입도 조건에 사용 가능하다.\n",
    "- **false로 간주되는 값**\n",
    "  - None\n",
    "  - 0\n",
    "  - 0.0\n",
    "  - ''\n",
    "  - [] -> 빈 리스트\n",
    "  - () -> 빈 튜플\n",
    "  - {} -> 빈 딕셔너리\n",
    "  - set() -> 빈 집합\n",
    "- 그 밖에는 모두 True로 간주한다.\n",
    "- 다중 조건문의 우선순위는 OR<AND<NOT 순으로 크다"
   ]
  },
  {
   "cell_type": "markdown",
   "id": "c8d85927",
   "metadata": {},
   "source": [
    "- **if, elif, else와 짝을 이루어 사용**\n",
    "- **그 이후 ':'을 붙여 조건을 표시(띄어쓰기에 주의한다.)"
   ]
  },
  {
   "cell_type": "code",
   "execution_count": 1,
   "id": "3b13ed46",
   "metadata": {},
   "outputs": [
    {
     "name": "stdout",
     "output_type": "stream",
     "text": [
      "5.0\n"
     ]
    }
   ],
   "source": [
    "a=10\n",
    "if a%2==0:\n",
    "    print(a/2)"
   ]
  },
  {
   "cell_type": "markdown",
   "id": "e83b0e7c",
   "metadata": {},
   "source": [
    "- **for 반복분의 사용**\n",
    "  - 리스트, 문자열 등 **순회 가능한 객체**를 순회하면서 값을 처리할 때 사용\n",
    "  - 순회를 할 수 있다 : **인덱스가 존재한다.**"
   ]
  },
  {
   "cell_type": "code",
   "execution_count": 2,
   "id": "068d4449",
   "metadata": {},
   "outputs": [
    {
     "name": "stdout",
     "output_type": "stream",
     "text": [
      "1 2\n",
      "2 4\n",
      "3 6\n",
      "4 8\n",
      "5 10\n"
     ]
    }
   ],
   "source": [
    "a=[1,2,3,4,5]\n",
    "for i in a:\n",
    "    print(i,i*2)"
   ]
  },
  {
   "cell_type": "code",
   "execution_count": 3,
   "id": "adb51576",
   "metadata": {},
   "outputs": [
    {
     "name": "stdout",
     "output_type": "stream",
     "text": [
      "h\n",
      "e\n",
      "l\n",
      "l\n",
      "o\n",
      " \n",
      "w\n",
      "o\n",
      "r\n",
      "l\n",
      "d\n"
     ]
    }
   ],
   "source": [
    "a='hello world'\n",
    "for char in a:\n",
    "    print(char)"
   ]
  },
  {
   "cell_type": "markdown",
   "id": "54b83857",
   "metadata": {},
   "source": [
    "- **dict의 아이템 출력하기**\n",
    "  - dict의 경우 기본적으로 순회하게 하면 key값을 참조한다.\n",
    "  - keys() 함수를 히용하여 key값만 순회 가능\n",
    "  - **values() 함수를 이용하여 values 값만 순회 가능**"
   ]
  },
  {
   "cell_type": "code",
   "execution_count": 5,
   "id": "a86d7f21",
   "metadata": {},
   "outputs": [
    {
     "name": "stdout",
     "output_type": "stream",
     "text": [
      "korea\n",
      "seoul\n",
      "japan\n",
      "tokyo\n",
      "canada\n",
      "ottawa\n",
      "seoul\n",
      "tokyo\n",
      "ottawa\n"
     ]
    }
   ],
   "source": [
    "a={'korea':'seoul','japan':'tokyo','canada':'ottawa'}\n",
    "for key in a:\n",
    "    print(key)\n",
    "    print(a[key])\n",
    "for value in a.values():\n",
    "    print(value)"
   ]
  },
  {
   "cell_type": "code",
   "execution_count": 6,
   "id": "6e4d3527",
   "metadata": {},
   "outputs": [
    {
     "name": "stdout",
     "output_type": "stream",
     "text": [
      "korea seoul\n",
      "japan tokyo\n",
      "canada ottawa\n"
     ]
    }
   ],
   "source": [
    "for key, value in a.items():\n",
    "    print(key,value)"
   ]
  },
  {
   "cell_type": "markdown",
   "id": "4ee08e58",
   "metadata": {},
   "source": [
    "- **for에서 index 사용하기**\n",
    "  - 기본적으로 for에 리스트를 순회하는 경우, 값만 추출함\n",
    "  - enumerate 함수를 이용하여 인덱스와 같이 사용이 가능"
   ]
  },
  {
   "cell_type": "code",
   "execution_count": 8,
   "id": "b70d8c84",
   "metadata": {},
   "outputs": [
    {
     "name": "stdout",
     "output_type": "stream",
     "text": [
      "0 1\n",
      "1 2\n",
      "2 3\n",
      "3 4\n",
      "4 5\n",
      "1\n",
      "2\n",
      "3\n",
      "4\n",
      "5\n"
     ]
    }
   ],
   "source": [
    "a=[1,2,3,4,5]\n",
    "for key, value in enumerate(a):\n",
    "    print(key, value)\n",
    "for value in a:\n",
    "    print(value)"
   ]
  },
  {
   "cell_type": "markdown",
   "id": "c3174f84",
   "metadata": {},
   "source": [
    "- **len() 함수를 이용하여 collection의 길이를 구할 수 있다.**\n",
    "- 그 외 내장 함수의 종류 : sum()"
   ]
  },
  {
   "cell_type": "markdown",
   "id": "7ebe7f18",
   "metadata": {},
   "source": [
    "- **리스트를 쉽게 만들어보자**\n",
    "  - range() 함수를 이용하여 다양한 리스트를 간단하게 만들 수 있다."
   ]
  },
  {
   "cell_type": "code",
   "execution_count": 11,
   "id": "f173b1d7",
   "metadata": {},
   "outputs": [
    {
     "name": "stdout",
     "output_type": "stream",
     "text": [
      "[0, 1, 2, 3, 4]\n",
      "[1, 2, 3, 4]\n",
      "[1, 3]\n"
     ]
    }
   ],
   "source": [
    "a=list(range(5)) # 0~4까지의 리스트\n",
    "print(a)\n",
    "a=list(range(1,5)) #1부터 4까지의 리스트\n",
    "print(a)\n",
    "a=list(range(1,5,2)) # 1부터 2씩 건너뛰는 리스트\n",
    "print(a)"
   ]
  },
  {
   "cell_type": "markdown",
   "id": "da0def05",
   "metadata": {},
   "source": []
  }
 ],
 "metadata": {
  "kernelspec": {
   "display_name": "Python 3",
   "language": "python",
   "name": "python3"
  },
  "language_info": {
   "codemirror_mode": {
    "name": "ipython",
    "version": 3
   },
   "file_extension": ".py",
   "mimetype": "text/x-python",
   "name": "python",
   "nbconvert_exporter": "python",
   "pygments_lexer": "ipython3",
   "version": "3.8.8"
  }
 },
 "nbformat": 4,
 "nbformat_minor": 5
}
