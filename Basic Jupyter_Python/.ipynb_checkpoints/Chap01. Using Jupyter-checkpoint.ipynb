{
 "cells": [
  {
   "cell_type": "markdown",
   "id": "1201c72f",
   "metadata": {},
   "source": [
    "# Written on June 7th.\n",
    "## Hello python\n",
    "### Hello python"
   ]
  },
  {
   "cell_type": "markdown",
   "id": "90c988ee",
   "metadata": {},
   "source": [
    "**pyhton** is really *cool*\n",
    "마크다운 설명을 위한 간단한 자료들\n",
    "- python\n",
    " - pandas\n",
    " - depth1\n",
    "   - depth2\n",
    " - depth1\n",
    "- java\n",
    "- c++\n",
    "\n",
    "1. hi\n",
    "2. hello\n",
    "\n",
    "> 파이썬은 재밌을까요?\n",
    "\n",
    "$y=3x$\n",
    "\n",
    "```python\n",
    "a=10\n",
    "print(a)\n",
    "```\n",
    "[네이버 공식 페이지](https://www.naver.com/)\n"
   ]
  },
  {
   "cell_type": "code",
   "execution_count": 8,
   "id": "561d5ed1",
   "metadata": {
    "scrolled": true
   },
   "outputs": [
    {
     "name": "stdout",
     "output_type": "stream",
     "text": [
      "10\n"
     ]
    }
   ],
   "source": [
    "a=10\n",
    "print(a)\n",
    "#H : 헬프 명령어\n",
    "#A : 위에 셀 추가\n",
    "#B : 아래에 셀 추가\n",
    "#Ctrl+Enter : 실행만 함\n",
    "#Shift+Enter : 실행 후 아래에 셀 추가\n",
    "#Y : Code 타입 셀로 변환\n",
    "#M : MarkDown 타입 셀로 변환"
   ]
  }
 ],
 "metadata": {
  "kernelspec": {
   "display_name": "Python 3",
   "language": "python",
   "name": "python3"
  },
  "language_info": {
   "codemirror_mode": {
    "name": "ipython",
    "version": 3
   },
   "file_extension": ".py",
   "mimetype": "text/x-python",
   "name": "python",
   "nbconvert_exporter": "python",
   "pygments_lexer": "ipython3",
   "version": "3.8.8"
  }
 },
 "nbformat": 4,
 "nbformat_minor": 5
}
