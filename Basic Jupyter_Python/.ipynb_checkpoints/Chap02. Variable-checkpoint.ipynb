{
 "cells": [
  {
   "cell_type": "markdown",
   "id": "f484132d",
   "metadata": {},
   "source": [
    "# Written on June 7th.\n",
    "\n",
    "주석 : comment(#)\n",
    "개발자가 보기 위한 용도로 사용"
   ]
  },
  {
   "cell_type": "code",
   "execution_count": 3,
   "id": "5f827631",
   "metadata": {},
   "outputs": [],
   "source": [
    "a=10\n",
    "b=11"
   ]
  },
  {
   "cell_type": "markdown",
   "id": "4c21e4cc",
   "metadata": {},
   "source": [
    "**print 함수**\n",
    "- 해당 변수의 값을 출력\n",
    "- ,로 여러 변수를 나열하면 한줄에 출력\n",
    "\n",
    "**print 함수의 설정**\n",
    "- sep : 구분자, 각 출력할 변수 사이에서 구별하는 역할을 함\n",
    "- end : 마지막에 출력할 문자열 "
   ]
  },
  {
   "cell_type": "code",
   "execution_count": 4,
   "id": "727f8a8f",
   "metadata": {},
   "outputs": [
    {
     "name": "stdout",
     "output_type": "stream",
     "text": [
      "10 11 10 100\n",
      "10*11*10*100!!"
     ]
    }
   ],
   "source": [
    "print(a,b,10,100)\n",
    "print(a,b,10,100,sep='*',end='!!')"
   ]
  },
  {
   "cell_type": "markdown",
   "id": "3a73dfab",
   "metadata": {},
   "source": [
    "**변수의 출력 방법 두 가지**\n",
    "- print() 함수 사용\n",
    "- 변수 값을 코드의 마지막에 위치한 후 실행\n",
    "  - 이 경우 output으로 변수의 값이 출력"
   ]
  },
  {
   "cell_type": "code",
   "execution_count": 5,
   "id": "523cbe15",
   "metadata": {},
   "outputs": [
    {
     "data": {
      "text/plain": [
       "11"
      ]
     },
     "execution_count": 5,
     "metadata": {},
     "output_type": "execute_result"
    }
   ],
   "source": [
    "a\n",
    "b"
   ]
  },
  {
   "cell_type": "markdown",
   "id": "1811b810",
   "metadata": {},
   "source": [
    "**variable naming**\n",
    "- 숫자로 시작하는 이름을 제외하고 여문 대소문자, 언더바, 숫자로 구성 가능\n",
    "- 아래의 예제는 모두 valid한 변수 이름\n",
    "- 일반적으로 해당 변수를 표현하고자 하는 정확하고 간결한 이름을 사용하는 것이 원칙\n",
    "  - 코드를 읽은 것을 더 쉽게 할 수 있음\n",
    "  - 변수에 이름을 부여하여 개발자의 코딩을 돕는다"
   ]
  },
  {
   "cell_type": "code",
   "execution_count": 6,
   "id": "9c2ef325",
   "metadata": {},
   "outputs": [],
   "source": [
    "abc=100 #가능\n",
    "_abc=200 #가능"
   ]
  },
  {
   "cell_type": "markdown",
   "id": "208c1337",
   "metadata": {},
   "source": [
    "**reserved keywords(예약어)**\n",
    "- pythob에서 미리 선점하여 사용중인 키워드\n",
    "- 변수, 함수, 클래스 등의 사용자 정의 이름으로 사용할 수 없음\n",
    "- 초록색으로 변화되는 단어들은 모두 예약어라 사용하면 됨"
   ]
  },
  {
   "cell_type": "code",
   "execution_count": null,
   "id": "5e16ce6b",
   "metadata": {},
   "outputs": [],
   "source": []
  },
  {
   "cell_type": "markdown",
   "id": "582c82e7",
   "metadata": {},
   "source": [
    "**기본 데이터 타입**\n",
    "- 정수(int)\n",
    "- 실수(float)\n",
    "- 문자열(str)\n",
    "- 불리언(boolean)\n",
    "\n",
    "**type 함수**\n",
    "해당 변수, 값의 타입을 알고자 할 때 사용"
   ]
  },
  {
   "cell_type": "code",
   "execution_count": 9,
   "id": "04e1837d",
   "metadata": {},
   "outputs": [
    {
     "data": {
      "text/plain": [
       "int"
      ]
     },
     "execution_count": 9,
     "metadata": {},
     "output_type": "execute_result"
    }
   ],
   "source": [
    "type(a)"
   ]
  },
  {
   "cell_type": "code",
   "execution_count": 11,
   "id": "66fdd1e3",
   "metadata": {},
   "outputs": [
    {
     "data": {
      "text/plain": [
       "float"
      ]
     },
     "execution_count": 11,
     "metadata": {},
     "output_type": "execute_result"
    }
   ],
   "source": [
    "b=11.6\n",
    "type(b)"
   ]
  },
  {
   "cell_type": "markdown",
   "id": "d8f60c58",
   "metadata": {},
   "source": [
    "**None**\n",
    "- 아무런 값을 가지지 않을 때 사용\n",
    "- 일반적으로 변수가 초기값을 갖지 않게 하여 해당 변수를 생성할 때 사용\n",
    "- 기타 언어의 NULL, nil등과 같은 의미로 사용"
   ]
  },
  {
   "cell_type": "code",
   "execution_count": 12,
   "id": "a971cda8",
   "metadata": {},
   "outputs": [],
   "source": [
    "c=None"
   ]
  },
  {
   "cell_type": "markdown",
   "id": "214f3a78",
   "metadata": {},
   "source": [
    "**comparison operator(비교 연산자)**\n",
    "- 프로그래밍에서는 비교를 할 경우 ==를 사용\n",
    "- 작다 크다, 같지 않다 등 여러 비교 연산자의 결과는 **불리언 타입**이다."
   ]
  },
  {
   "cell_type": "code",
   "execution_count": 15,
   "id": "a4bbee26",
   "metadata": {},
   "outputs": [
    {
     "name": "stdout",
     "output_type": "stream",
     "text": [
      "False\n",
      "False\n",
      "True\n"
     ]
    },
    {
     "data": {
      "text/plain": [
       "bool"
      ]
     },
     "execution_count": 15,
     "metadata": {},
     "output_type": "execute_result"
    }
   ],
   "source": [
    "print(a>b)\n",
    "print(a==b)\n",
    "print(a!=b)\n",
    "type(d)"
   ]
  },
  {
   "cell_type": "markdown",
   "id": "f13b7034",
   "metadata": {},
   "source": [
    "**numbers(숫자형 타입)**\n",
    "- 정수, 실수로 구성\n",
    "- 수학의 기본 연산자 사용 가능"
   ]
  },
  {
   "cell_type": "code",
   "execution_count": 16,
   "id": "aa860210",
   "metadata": {},
   "outputs": [
    {
     "name": "stdout",
     "output_type": "stream",
     "text": [
      "21\n"
     ]
    }
   ],
   "source": [
    "a=5\n",
    "b=4\n",
    "print(a+b*b)"
   ]
  },
  {
   "cell_type": "markdown",
   "id": "147561fd",
   "metadata": {},
   "source": [
    "**연산자 우선순위**\n",
    "- 기본적인 수학의 연산자와 동일\n",
    "- 강제로 연산을 선수하기 위해선, 괄호를 사용\n",
    "\n",
    "**expression evaluation & assignment (식평가 & 대입)**\n",
    "- 변수의 값이 변경되기 위해서는 **=를 사용하여 대입이 발생하는 경우에만 해당**한다."
   ]
  },
  {
   "cell_type": "code",
   "execution_count": 18,
   "id": "05ac2806",
   "metadata": {},
   "outputs": [
    {
     "name": "stdout",
     "output_type": "stream",
     "text": [
      "3\n",
      "2\n",
      "3\n",
      "2\n"
     ]
    }
   ],
   "source": [
    "a=3\n",
    "print(a)\n",
    "print(a-1)\n",
    "print(a)\n",
    "a=a-1\n",
    "print(a)"
   ]
  }
 ],
 "metadata": {
  "kernelspec": {
   "display_name": "Python 3",
   "language": "python",
   "name": "python3"
  },
  "language_info": {
   "codemirror_mode": {
    "name": "ipython",
    "version": 3
   },
   "file_extension": ".py",
   "mimetype": "text/x-python",
   "name": "python",
   "nbconvert_exporter": "python",
   "pygments_lexer": "ipython3",
   "version": "3.8.8"
  }
 },
 "nbformat": 4,
 "nbformat_minor": 5
}
