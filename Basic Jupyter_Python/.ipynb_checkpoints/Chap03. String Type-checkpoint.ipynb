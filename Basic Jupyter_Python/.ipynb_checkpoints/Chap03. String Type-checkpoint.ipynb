{
 "cells": [
  {
   "cell_type": "markdown",
   "id": "24bdcddf",
   "metadata": {},
   "source": [
    "**String(문자열)**\n",
    "- 복수개의 문자를 순서대로 나열한 것\n",
    "- 문자열은 작은따옴표 혹은 큰따옴표 사이에 문자를 넣어서 생성\n",
    "- 문자열 자체에 ',\"가 있는 경우 각각 그 반대의 기호로 생성\n",
    "- Enter를 사용하여 정의 불가능\n",
    "\n",
    "**''' '''** 사용하여 표현 가능 -> 여러줄에 걸쳐 문자열 표현 가능"
   ]
  },
  {
   "cell_type": "code",
   "execution_count": 1,
   "id": "027dc1b4",
   "metadata": {},
   "outputs": [
    {
     "name": "stdout",
     "output_type": "stream",
     "text": [
      "Hello\" World\n",
      "Hello' World\n"
     ]
    }
   ],
   "source": [
    "a='Hello\" World' #문자열 안에 큰 따옴표 사용 가능\n",
    "b=\"Hello' World\" #문자열 안에 작은 따옴표 사용 가능\n",
    "print(a)\n",
    "print(b)"
   ]
  },
  {
   "cell_type": "code",
   "execution_count": 3,
   "id": "53b0bb3a",
   "metadata": {},
   "outputs": [
    {
     "name": "stdout",
     "output_type": "stream",
     "text": [
      "Hello\n",
      "World\n",
      "Hello Wor\n",
      "ld\n"
     ]
    }
   ],
   "source": [
    "c='''Hello\n",
    "World'''\n",
    "\n",
    "d=\"\"\"Hello Wor\n",
    "ld\"\"\"\n",
    "print(c)\n",
    "print(d)"
   ]
  },
  {
   "cell_type": "markdown",
   "id": "d83e49b2",
   "metadata": {},
   "source": [
    "**escape string**\n",
    "- 문자열 내의 일부 문자의 의미를 달리하여 특정한 효과를 줄 수 있음(\\n, \\t 등)"
   ]
  },
  {
   "cell_type": "markdown",
   "id": "4bb0c211",
   "metadata": {},
   "source": [
    "**indexing & slicing string**\n",
    "- 문자열의 각 문자를 순서가 있음\n",
    "- 이때 각 문자열의 순서를 인덱스라 함\n",
    "- 첫번재 시작문자의 순서는 0으로 시작함\n",
    "- 범위를 벗어난다면 에러 발생"
   ]
  },
  {
   "cell_type": "code",
   "execution_count": 6,
   "id": "f65e6d63",
   "metadata": {},
   "outputs": [
    {
     "name": "stdout",
     "output_type": "stream",
     "text": [
      "l\n"
     ]
    }
   ],
   "source": [
    "a='Hello World' #길이:11\n",
    "print(a[9])"
   ]
  },
  {
   "cell_type": "markdown",
   "id": "37433e55",
   "metadata": {},
   "source": [
    "- 다른 언어와 달리 파이썬은 음수 인덱스를 지원한다.\n",
    "- -1은 가장 마지막 인덱스, -2라면 마지막에서 두번째 인덱스를 의미"
   ]
  },
  {
   "cell_type": "code",
   "execution_count": 5,
   "id": "a24b7a6a",
   "metadata": {},
   "outputs": [
    {
     "name": "stdout",
     "output_type": "stream",
     "text": [
      "d\n"
     ]
    }
   ],
   "source": [
    "print(a[-1])"
   ]
  },
  {
   "cell_type": "markdown",
   "id": "4a5f9ee6",
   "metadata": {},
   "source": [
    "**문자열 slicing**\n",
    "- slicing은 부분 문자열 추출함\n",
    "- [시작:끝]을 명시하여 부분 문자열을 추출한다.\n",
    "- 단, 끝에 해당하는 문자열은 출력에 포함하지 않음\n",
    "- 처음과 끝은 생략이 가능"
   ]
  },
  {
   "cell_type": "code",
   "execution_count": 8,
   "id": "65fd80cc",
   "metadata": {},
   "outputs": [
    {
     "name": "stdout",
     "output_type": "stream",
     "text": [
      "Hell\n",
      "Hel\n",
      "World\n"
     ]
    }
   ],
   "source": [
    "a='Hello World'\n",
    "print(a[0:4])\n",
    "print(a[:3])\n",
    "print(a[6:])"
   ]
  },
  {
   "cell_type": "markdown",
   "id": "442fe9fc",
   "metadata": {},
   "source": [
    "- **upper**\n",
    "  - 문자열을 대문자로 치환"
   ]
  },
  {
   "cell_type": "code",
   "execution_count": 9,
   "id": "56055934",
   "metadata": {},
   "outputs": [
    {
     "data": {
      "text/plain": [
       "'HELLO WORLD'"
      ]
     },
     "execution_count": 9,
     "metadata": {},
     "output_type": "execute_result"
    }
   ],
   "source": [
    "a.upper()"
   ]
  },
  {
   "cell_type": "markdown",
   "id": "4f3531aa",
   "metadata": {},
   "source": [
    " - **replace**\n",
    "   - 문자열 내의 특정 문자를 치환"
   ]
  },
  {
   "cell_type": "code",
   "execution_count": 13,
   "id": "54d1b9d5",
   "metadata": {},
   "outputs": [
    {
     "data": {
      "text/plain": [
       "'Jello World'"
      ]
     },
     "execution_count": 13,
     "metadata": {},
     "output_type": "execute_result"
    }
   ],
   "source": [
    "a.replace('H','J')"
   ]
  },
  {
   "cell_type": "markdown",
   "id": "4156240d",
   "metadata": {},
   "source": [
    "- **format**\n",
    "  - 문자열 내의 특정한 값을 변수로부터 초기화하여 동적으로 문자열을 생성"
   ]
  },
  {
   "cell_type": "code",
   "execution_count": 15,
   "id": "13481710",
   "metadata": {},
   "outputs": [
    {
     "name": "stdout",
     "output_type": "stream",
     "text": [
      "오늘 기온25.5도 이고, 비올 확률은 80.0%입니다\n"
     ]
    }
   ],
   "source": [
    "temperature=25.5\n",
    "prob=80.0\n",
    "a='오늘 기온{}도 이고, 비올 확률은 {}%입니다'.format(temperature,prob)\n",
    "print(a)"
   ]
  },
  {
   "cell_type": "markdown",
   "id": "79067b43",
   "metadata": {},
   "source": [
    "- **split**\n",
    "  - 문자열을 특정한 문자를 구분하여 문자열의 리스트로 치환"
   ]
  },
  {
   "cell_type": "code",
   "execution_count": 16,
   "id": "80a8ba0a",
   "metadata": {},
   "outputs": [
    {
     "data": {
      "text/plain": [
       "['my', 'name', 'is', 'sungmin']"
      ]
     },
     "execution_count": 16,
     "metadata": {},
     "output_type": "execute_result"
    }
   ],
   "source": [
    "a='my name is sungmin'\n",
    "a.split(\" \")"
   ]
  },
  {
   "cell_type": "code",
   "execution_count": null,
   "id": "520061f0",
   "metadata": {},
   "outputs": [],
   "source": []
  }
 ],
 "metadata": {
  "kernelspec": {
   "display_name": "Python 3",
   "language": "python",
   "name": "python3"
  },
  "language_info": {
   "codemirror_mode": {
    "name": "ipython",
    "version": 3
   },
   "file_extension": ".py",
   "mimetype": "text/x-python",
   "name": "python",
   "nbconvert_exporter": "python",
   "pygments_lexer": "ipython3",
   "version": "3.8.8"
  }
 },
 "nbformat": 4,
 "nbformat_minor": 5
}
